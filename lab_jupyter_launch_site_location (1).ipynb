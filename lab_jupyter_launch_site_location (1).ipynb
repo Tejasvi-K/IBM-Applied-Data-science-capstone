{
  "metadata": {
    "kernelspec": {
      "name": "python",
      "display_name": "Python (Pyodide)",
      "language": "python"
    },
    "language_info": {
      "codemirror_mode": {
        "name": "python",
        "version": 3
      },
      "file_extension": ".py",
      "mimetype": "text/x-python",
      "name": "python",
      "nbconvert_exporter": "python",
      "pygments_lexer": "ipython3",
      "version": "3.8"
    }
  },
  "nbformat_minor": 4,
  "nbformat": 4,
  "cells": [
    {
      "cell_type": "markdown",
      "source": "<p style=\"text-align:center\">\n    <a href=\"https://skills.network/?utm_medium=Exinfluencer&utm_source=Exinfluencer&utm_content=000026UJ&utm_term=10006555&utm_id=NA-SkillsNetwork-Channel-SkillsNetworkCoursesIBMDS0321ENSkillsNetwork26802033-2022-01-01\" target=\"_blank\">\n    <img src=\"https://cf-courses-data.s3.us.cloud-object-storage.appdomain.cloud/assets/logos/SN_web_lightmode.png\" width=\"200\" alt=\"Skills Network Logo\"  />\n    </a>\n</p>\n",
      "metadata": {}
    },
    {
      "cell_type": "markdown",
      "source": "# **Launch Sites Locations Analysis with Folium**\n",
      "metadata": {}
    },
    {
      "cell_type": "markdown",
      "source": "Estimated time needed: **40** minutes\n",
      "metadata": {}
    },
    {
      "cell_type": "markdown",
      "source": "The launch success rate may depend on many factors such as payload mass, orbit type, and so on. It may also depend on the location and proximities of a launch site, i.e., the initial position of rocket trajectories. Finding an optimal location for building a launch site certainly involves many factors and hopefully we could discover some of the factors by analyzing the existing launch site locations.\n",
      "metadata": {}
    },
    {
      "cell_type": "markdown",
      "source": "In the previous exploratory data analysis labs, you have visualized the SpaceX launch dataset using `matplotlib` and `seaborn` and discovered some preliminary correlations between the launch site and success rates. In this lab, you will be performing more interactive visual analytics using `Folium`.\n",
      "metadata": {}
    },
    {
      "cell_type": "markdown",
      "source": "## Objectives\n",
      "metadata": {}
    },
    {
      "cell_type": "markdown",
      "source": "This lab contains the following tasks:\n\n*   **TASK 1:** Mark all launch sites on a map\n*   **TASK 2:** Mark the success/failed launches for each site on the map\n*   **TASK 3:** Calculate the distances between a launch site to its proximities\n\nAfter completed the above tasks, you should be able to find some geographical patterns about launch sites.\n",
      "metadata": {}
    },
    {
      "cell_type": "markdown",
      "source": "Let's first import required Python packages for this lab:\n",
      "metadata": {}
    },
    {
      "cell_type": "code",
      "source": "import piplite\nawait piplite.install(['folium'])\nawait piplite.install(['pandas'])",
      "metadata": {
        "trusted": true
      },
      "outputs": [],
      "execution_count": 1
    },
    {
      "cell_type": "code",
      "source": "import folium\nimport pandas as pd",
      "metadata": {
        "trusted": true
      },
      "outputs": [],
      "execution_count": 2
    },
    {
      "cell_type": "code",
      "source": "# Import folium MarkerCluster plugin\nfrom folium.plugins import MarkerCluster\n# Import folium MousePosition plugin\nfrom folium.plugins import MousePosition\n# Import folium DivIcon plugin\nfrom folium.features import DivIcon",
      "metadata": {
        "trusted": true
      },
      "outputs": [],
      "execution_count": 3
    },
    {
      "cell_type": "markdown",
      "source": "If you need to refresh your memory about folium, you may download and refer to this previous folium lab:\n",
      "metadata": {}
    },
    {
      "cell_type": "markdown",
      "source": "[Generating Maps with Python](https://cf-courses-data.s3.us.cloud-object-storage.appdomain.cloud/IBM-DS0321EN-SkillsNetwork/labs/module\\_3/DV0101EN-3-5-1-Generating-Maps-in-Python-py-v2.0.ipynb)\n",
      "metadata": {}
    },
    {
      "cell_type": "code",
      "source": "## Task 1: Mark all launch sites on a map\n",
      "metadata": {
        "trusted": true
      },
      "outputs": [],
      "execution_count": 4
    },
    {
      "cell_type": "markdown",
      "source": "First, let's try to add each site's location on a map using site's latitude and longitude coordinates\n",
      "metadata": {}
    },
    {
      "cell_type": "markdown",
      "source": "The following dataset with the name `spacex_launch_geo.csv` is an augmented dataset with latitude and longitude added for each site.\n",
      "metadata": {}
    },
    {
      "cell_type": "code",
      "source": "# Download and read the `spacex_launch_geo.csv`\nfrom js import fetch\nimport io\n\nURL = 'https://cf-courses-data.s3.us.cloud-object-storage.appdomain.cloud/IBM-DS0321EN-SkillsNetwork/datasets/spacex_launch_geo.csv'\nresp = await fetch(URL)\nspacex_csv_file = io.BytesIO((await resp.arrayBuffer()).to_py())\nspacex_df=pd.read_csv(spacex_csv_file)",
      "metadata": {
        "trusted": true
      },
      "outputs": [],
      "execution_count": 5
    },
    {
      "cell_type": "markdown",
      "source": "Now, you can take a look at what are the coordinates for each site.\n",
      "metadata": {}
    },
    {
      "cell_type": "code",
      "source": "# Select relevant sub-columns: `Launch Site`, `Lat(Latitude)`, `Long(Longitude)`, `class`\nspacex_df = spacex_df[['Launch Site', 'Lat', 'Long', 'class']]\nlaunch_sites_df = spacex_df.groupby(['Launch Site'], as_index=False).first()\nlaunch_sites_df = launch_sites_df[['Launch Site', 'Lat', 'Long']]\nlaunch_sites_df",
      "metadata": {
        "trusted": true
      },
      "outputs": [
        {
          "execution_count": 6,
          "output_type": "execute_result",
          "data": {
            "text/plain": "    Launch Site        Lat        Long\n0   CCAFS LC-40  28.562302  -80.577356\n1  CCAFS SLC-40  28.563197  -80.576820\n2    KSC LC-39A  28.573255  -80.646895\n3   VAFB SLC-4E  34.632834 -120.610745",
            "text/html": "<div>\n<style scoped>\n    .dataframe tbody tr th:only-of-type {\n        vertical-align: middle;\n    }\n\n    .dataframe tbody tr th {\n        vertical-align: top;\n    }\n\n    .dataframe thead th {\n        text-align: right;\n    }\n</style>\n<table border=\"1\" class=\"dataframe\">\n  <thead>\n    <tr style=\"text-align: right;\">\n      <th></th>\n      <th>Launch Site</th>\n      <th>Lat</th>\n      <th>Long</th>\n    </tr>\n  </thead>\n  <tbody>\n    <tr>\n      <th>0</th>\n      <td>CCAFS LC-40</td>\n      <td>28.562302</td>\n      <td>-80.577356</td>\n    </tr>\n    <tr>\n      <th>1</th>\n      <td>CCAFS SLC-40</td>\n      <td>28.563197</td>\n      <td>-80.576820</td>\n    </tr>\n    <tr>\n      <th>2</th>\n      <td>KSC LC-39A</td>\n      <td>28.573255</td>\n      <td>-80.646895</td>\n    </tr>\n    <tr>\n      <th>3</th>\n      <td>VAFB SLC-4E</td>\n      <td>34.632834</td>\n      <td>-120.610745</td>\n    </tr>\n  </tbody>\n</table>\n</div>"
          },
          "metadata": {}
        }
      ],
      "execution_count": 6
    },
    {
      "cell_type": "markdown",
      "source": "Above coordinates are just plain numbers that can not give you any intuitive insights about where are those launch sites. If you are very good at geography, you can interpret those numbers directly in your mind. If not, that's fine too. Let's visualize those locations by pinning them on a map.\n",
      "metadata": {}
    },
    {
      "cell_type": "markdown",
      "source": "We first need to create a folium `Map` object, with an initial center location to be NASA Johnson Space Center at Houston, Texas.\n",
      "metadata": {}
    },
    {
      "cell_type": "code",
      "source": "# Start location is NASA Johnson Space Center\nnasa_coordinate = [29.559684888503615, -95.0830971930759]\nsite_map = folium.Map(location=nasa_coordinate, zoom_start=10)",
      "metadata": {
        "trusted": true
      },
      "outputs": [],
      "execution_count": 7
    },
    {
      "cell_type": "markdown",
      "source": "We could use `folium.Circle` to add a highlighted circle area with a text label on a specific coordinate. For example,\n",
      "metadata": {}
    },
    {
      "cell_type": "code",
      "source": "circle = folium.Circle(nasa_coordinate, radius=1000, color='#d35400', fill=True).add_child(folium.Popup('NASA Johnson Space Center'))\n# Create a blue circle at NASA Johnson Space Center's coordinate with a icon showing its name\nmarker = folium.map.Marker(\n    nasa_coordinate,\n    # Create an icon as a text label\n    icon=DivIcon(\n        icon_size=(20,20),\n        icon_anchor=(0,0),\n        html='<div style=\"font-size: 12; color:#d35400;\"><b>%s</b></div>' % 'NASA JSC',\n        )\n    )\nsite_map.add_child(circle)\nsite_map.add_child(marker)",
      "metadata": {
        "trusted": true
      },
      "outputs": [
        {
          "execution_count": 8,
          "output_type": "execute_result",
          "data": {
            "text/plain": "<folium.folium.Map at 0x54417d8>",
            "text/html": "<div style=\"width:100%;\"><div style=\"position:relative;width:100%;height:0;padding-bottom:60%;\"><span style=\"color:#565656\">Make this Notebook Trusted to load map: File -> Trust Notebook</span><iframe srcdoc=\"&lt;!DOCTYPE html&gt;\n&lt;html&gt;\n&lt;head&gt;\n    \n    &lt;meta http-equiv=&quot;content-type&quot; content=&quot;text/html; charset=UTF-8&quot; /&gt;\n    \n        &lt;script&gt;\n            L_NO_TOUCH = false;\n            L_DISABLE_3D = false;\n        &lt;/script&gt;\n    \n    &lt;style&gt;html, body {width: 100%;height: 100%;margin: 0;padding: 0;}&lt;/style&gt;\n    &lt;style&gt;#map {position:absolute;top:0;bottom:0;right:0;left:0;}&lt;/style&gt;\n    &lt;script src=&quot;https://cdn.jsdelivr.net/npm/leaflet@1.9.3/dist/leaflet.js&quot;&gt;&lt;/script&gt;\n    &lt;script src=&quot;https://code.jquery.com/jquery-3.7.1.min.js&quot;&gt;&lt;/script&gt;\n    &lt;script src=&quot;https://cdn.jsdelivr.net/npm/bootstrap@5.2.2/dist/js/bootstrap.bundle.min.js&quot;&gt;&lt;/script&gt;\n    &lt;script src=&quot;https://cdnjs.cloudflare.com/ajax/libs/Leaflet.awesome-markers/2.0.2/leaflet.awesome-markers.js&quot;&gt;&lt;/script&gt;\n    &lt;link rel=&quot;stylesheet&quot; href=&quot;https://cdn.jsdelivr.net/npm/leaflet@1.9.3/dist/leaflet.css&quot;/&gt;\n    &lt;link rel=&quot;stylesheet&quot; href=&quot;https://cdn.jsdelivr.net/npm/bootstrap@5.2.2/dist/css/bootstrap.min.css&quot;/&gt;\n    &lt;link rel=&quot;stylesheet&quot; href=&quot;https://netdna.bootstrapcdn.com/bootstrap/3.0.0/css/bootstrap-glyphicons.css&quot;/&gt;\n    &lt;link rel=&quot;stylesheet&quot; href=&quot;https://cdn.jsdelivr.net/npm/@fortawesome/fontawesome-free@6.2.0/css/all.min.css&quot;/&gt;\n    &lt;link rel=&quot;stylesheet&quot; href=&quot;https://cdnjs.cloudflare.com/ajax/libs/Leaflet.awesome-markers/2.0.2/leaflet.awesome-markers.css&quot;/&gt;\n    &lt;link rel=&quot;stylesheet&quot; href=&quot;https://cdn.jsdelivr.net/gh/python-visualization/folium/folium/templates/leaflet.awesome.rotate.min.css&quot;/&gt;\n    \n            &lt;meta name=&quot;viewport&quot; content=&quot;width=device-width,\n                initial-scale=1.0, maximum-scale=1.0, user-scalable=no&quot; /&gt;\n            &lt;style&gt;\n                #map_bbc6350c9cbe23a844988cf0320f27e3 {\n                    position: relative;\n                    width: 100.0%;\n                    height: 100.0%;\n                    left: 0.0%;\n                    top: 0.0%;\n                }\n                .leaflet-container { font-size: 1rem; }\n            &lt;/style&gt;\n        \n&lt;/head&gt;\n&lt;body&gt;\n    \n    \n            &lt;div class=&quot;folium-map&quot; id=&quot;map_bbc6350c9cbe23a844988cf0320f27e3&quot; &gt;&lt;/div&gt;\n        \n&lt;/body&gt;\n&lt;script&gt;\n    \n    \n            var map_bbc6350c9cbe23a844988cf0320f27e3 = L.map(\n                &quot;map_bbc6350c9cbe23a844988cf0320f27e3&quot;,\n                {\n                    center: [29.559684888503615, -95.0830971930759],\n                    crs: L.CRS.EPSG3857,\n                    zoom: 10,\n                    zoomControl: true,\n                    preferCanvas: false,\n                }\n            );\n\n            \n\n        \n    \n            var tile_layer_a77b7020faa7199b19df5d3bbfa69ba3 = L.tileLayer(\n                &quot;https://tile.openstreetmap.org/{z}/{x}/{y}.png&quot;,\n                {&quot;attribution&quot;: &quot;\\u0026copy; \\u003ca href=\\&quot;https://www.openstreetmap.org/copyright\\&quot;\\u003eOpenStreetMap\\u003c/a\\u003e contributors&quot;, &quot;detectRetina&quot;: false, &quot;maxNativeZoom&quot;: 19, &quot;maxZoom&quot;: 19, &quot;minZoom&quot;: 0, &quot;noWrap&quot;: false, &quot;opacity&quot;: 1, &quot;subdomains&quot;: &quot;abc&quot;, &quot;tms&quot;: false}\n            );\n        \n    \n            tile_layer_a77b7020faa7199b19df5d3bbfa69ba3.addTo(map_bbc6350c9cbe23a844988cf0320f27e3);\n        \n    \n            var circle_fa21758b569786bec2baa11a226da59d = L.circle(\n                [29.559684888503615, -95.0830971930759],\n                {&quot;bubblingMouseEvents&quot;: true, &quot;color&quot;: &quot;#d35400&quot;, &quot;dashArray&quot;: null, &quot;dashOffset&quot;: null, &quot;fill&quot;: true, &quot;fillColor&quot;: &quot;#d35400&quot;, &quot;fillOpacity&quot;: 0.2, &quot;fillRule&quot;: &quot;evenodd&quot;, &quot;lineCap&quot;: &quot;round&quot;, &quot;lineJoin&quot;: &quot;round&quot;, &quot;opacity&quot;: 1.0, &quot;radius&quot;: 1000, &quot;stroke&quot;: true, &quot;weight&quot;: 3}\n            ).addTo(map_bbc6350c9cbe23a844988cf0320f27e3);\n        \n    \n        var popup_543149634dd34e9709d1ca9cf9d2c46c = L.popup({&quot;maxWidth&quot;: &quot;100%&quot;});\n\n        \n            \n                var html_14d80f3ac2cdf65063a43991afc7b553 = $(`&lt;div id=&quot;html_14d80f3ac2cdf65063a43991afc7b553&quot; style=&quot;width: 100.0%; height: 100.0%;&quot;&gt;NASA Johnson Space Center&lt;/div&gt;`)[0];\n                popup_543149634dd34e9709d1ca9cf9d2c46c.setContent(html_14d80f3ac2cdf65063a43991afc7b553);\n            \n        \n\n        circle_fa21758b569786bec2baa11a226da59d.bindPopup(popup_543149634dd34e9709d1ca9cf9d2c46c)\n        ;\n\n        \n    \n    \n            var marker_f8f74e7793f5bfcee35c90333188b2f1 = L.marker(\n                [29.559684888503615, -95.0830971930759],\n                {}\n            ).addTo(map_bbc6350c9cbe23a844988cf0320f27e3);\n        \n    \n            var div_icon_6954fb694e621ba9da0e046702e70fb0 = L.divIcon({&quot;className&quot;: &quot;empty&quot;, &quot;html&quot;: &quot;\\u003cdiv style=\\&quot;font-size: 12; color:#d35400;\\&quot;\\u003e\\u003cb\\u003eNASA JSC\\u003c/b\\u003e\\u003c/div\\u003e&quot;, &quot;iconAnchor&quot;: [0, 0], &quot;iconSize&quot;: [20, 20]});\n            marker_f8f74e7793f5bfcee35c90333188b2f1.setIcon(div_icon_6954fb694e621ba9da0e046702e70fb0);\n        \n&lt;/script&gt;\n&lt;/html&gt;\" style=\"position:absolute;width:100%;height:100%;left:0;top:0;border:none !important;\" allowfullscreen webkitallowfullscreen mozallowfullscreen></iframe></div></div>"
          },
          "metadata": {}
        }
      ],
      "execution_count": 8
    },
    {
      "cell_type": "markdown",
      "source": "and you should find a small yellow circle near the city of Houston and you can zoom-in to see a larger circle.\n",
      "metadata": {}
    },
    {
      "cell_type": "markdown",
      "source": "Now, let's add a circle for each launch site in data frame `launch_sites`\n",
      "metadata": {}
    },
    {
      "cell_type": "markdown",
      "source": "*TODO:*  Create and add `folium.Circle` and `folium.Marker` for each launch site on the site map\n",
      "metadata": {}
    },
    {
      "cell_type": "markdown",
      "source": "An example of folium.Circle:\n",
      "metadata": {}
    },
    {
      "cell_type": "markdown",
      "source": "`folium.Circle(coordinate, radius=1000, color='#000000', fill=True).add_child(folium.Popup(...))`\n",
      "metadata": {}
    },
    {
      "cell_type": "markdown",
      "source": "An example of folium.Marker:\n",
      "metadata": {}
    },
    {
      "cell_type": "markdown",
      "source": "`folium.map.Marker(coordinate, icon=DivIcon(icon_size=(20,20),icon_anchor=(0,0), html='<div style=\"font-size: 12; color:#d35400;\"><b>%s</b></div>' % 'label', ))`\n",
      "metadata": {}
    },
    {
      "cell_type": "code",
      "source": "# Initial the map\nCCAFS_LC40_Coordinate = [28.562302, -80.577356]\nCCAFS_SLC40_Coordinate = [28.563197, -80.576820]\nKSC_LC39A_Coordinate = [28.573255, -80.646895]\nVAFB_SLC4E_Coordinate = [34.632834, -120.610745]\n\ncircle1 = folium.Circle(CCAFS_LC40_Coordinate, radius=1000, color='#d35400', fill=True).add_child(folium.Popup('CCAFS_LC-40'))\nmarker1 = folium.map.Marker(\n    CCAFS_LC40_Coordinate,\n    icon=DivIcon(\n        icon_size=(20,20),\n        icon_anchor=(0,0),\n        html='<div style=\"font-size: 12; color:#d35400;\"><b>%s</b></div>' % 'CCAFS_LC-40',\n        )\n    )\nsite_map.add_child(circle1)\nsite_map.add_child(marker1)\n\ncircle2 = folium.Circle(CCAFS_SLC40_Coordinate, radius=1000, color='#d35400', fill=True).add_child(folium.Popup('CCAFS_SLC-40'))\nmarker2 = folium.map.Marker(\n    CCAFS_SLC40_Coordinate,\n    icon=DivIcon(\n        icon_size=(20,20),\n        icon_anchor=(0,0),\n        html='<div style=\"font-size: 12; color:#d35400;\"><b>%s</b></div>' % 'CCAFS_SLC-40',\n        )\n    )\nsite_map.add_child(circle2)\nsite_map.add_child(marker2)\n\ncircle3 = folium.Circle(KSC_LC39A_Coordinate, radius=1000, color='#d35400', fill=True).add_child(folium.Popup('KSC_LC-39A'))\nmarker3 = folium.map.Marker(\n    KSC_LC39A_Coordinate,\n    icon=DivIcon(\n        icon_size=(20,20),\n        icon_anchor=(0,0),\n        html='<div style=\"font-size: 12; color:#d35400;\"><b>%s</b></div>' % 'KSC_LC-39A',\n        )\n    )\nsite_map.add_child(circle3)\nsite_map.add_child(marker3)\n\ncircle4 = folium.Circle(VAFB_SLC4E_Coordinate, radius=1000, color='#d35400', fill=True).add_child(folium.Popup('VAFB_SLC-4E'))\nmarker4 = folium.map.Marker(\n    VAFB_SLC4E_Coordinate,\n    icon=DivIcon(\n        icon_size=(20,20),\n        icon_anchor=(0,0),\n        html='<div style=\"font-size: 12; color:#d35400;\"><b>%s</b></div>' % 'VAFB_SLC-4E',\n        )\n    )\nsite_map.add_child(circle4)\nsite_map.add_child(marker4)\n\n\n    \n    ",
      "metadata": {
        "trusted": true
      },
      "outputs": [
        {
          "execution_count": 9,
          "output_type": "execute_result",
          "data": {
            "text/plain": "<folium.folium.Map at 0x54417d8>",
            "text/html": "<div style=\"width:100%;\"><div style=\"position:relative;width:100%;height:0;padding-bottom:60%;\"><span style=\"color:#565656\">Make this Notebook Trusted to load map: File -> Trust Notebook</span><iframe srcdoc=\"&lt;!DOCTYPE html&gt;\n&lt;html&gt;\n&lt;head&gt;\n    \n    &lt;meta http-equiv=&quot;content-type&quot; content=&quot;text/html; charset=UTF-8&quot; /&gt;\n    \n        &lt;script&gt;\n            L_NO_TOUCH = false;\n            L_DISABLE_3D = false;\n        &lt;/script&gt;\n    \n    &lt;style&gt;html, body {width: 100%;height: 100%;margin: 0;padding: 0;}&lt;/style&gt;\n    &lt;style&gt;#map {position:absolute;top:0;bottom:0;right:0;left:0;}&lt;/style&gt;\n    &lt;script src=&quot;https://cdn.jsdelivr.net/npm/leaflet@1.9.3/dist/leaflet.js&quot;&gt;&lt;/script&gt;\n    &lt;script src=&quot;https://code.jquery.com/jquery-3.7.1.min.js&quot;&gt;&lt;/script&gt;\n    &lt;script src=&quot;https://cdn.jsdelivr.net/npm/bootstrap@5.2.2/dist/js/bootstrap.bundle.min.js&quot;&gt;&lt;/script&gt;\n    &lt;script src=&quot;https://cdnjs.cloudflare.com/ajax/libs/Leaflet.awesome-markers/2.0.2/leaflet.awesome-markers.js&quot;&gt;&lt;/script&gt;\n    &lt;link rel=&quot;stylesheet&quot; href=&quot;https://cdn.jsdelivr.net/npm/leaflet@1.9.3/dist/leaflet.css&quot;/&gt;\n    &lt;link rel=&quot;stylesheet&quot; href=&quot;https://cdn.jsdelivr.net/npm/bootstrap@5.2.2/dist/css/bootstrap.min.css&quot;/&gt;\n    &lt;link rel=&quot;stylesheet&quot; href=&quot;https://netdna.bootstrapcdn.com/bootstrap/3.0.0/css/bootstrap-glyphicons.css&quot;/&gt;\n    &lt;link rel=&quot;stylesheet&quot; href=&quot;https://cdn.jsdelivr.net/npm/@fortawesome/fontawesome-free@6.2.0/css/all.min.css&quot;/&gt;\n    &lt;link rel=&quot;stylesheet&quot; href=&quot;https://cdnjs.cloudflare.com/ajax/libs/Leaflet.awesome-markers/2.0.2/leaflet.awesome-markers.css&quot;/&gt;\n    &lt;link rel=&quot;stylesheet&quot; href=&quot;https://cdn.jsdelivr.net/gh/python-visualization/folium/folium/templates/leaflet.awesome.rotate.min.css&quot;/&gt;\n    \n            &lt;meta name=&quot;viewport&quot; content=&quot;width=device-width,\n                initial-scale=1.0, maximum-scale=1.0, user-scalable=no&quot; /&gt;\n            &lt;style&gt;\n                #map_bbc6350c9cbe23a844988cf0320f27e3 {\n                    position: relative;\n                    width: 100.0%;\n                    height: 100.0%;\n                    left: 0.0%;\n                    top: 0.0%;\n                }\n                .leaflet-container { font-size: 1rem; }\n            &lt;/style&gt;\n        \n&lt;/head&gt;\n&lt;body&gt;\n    \n    \n            &lt;div class=&quot;folium-map&quot; id=&quot;map_bbc6350c9cbe23a844988cf0320f27e3&quot; &gt;&lt;/div&gt;\n        \n&lt;/body&gt;\n&lt;script&gt;\n    \n    \n            var map_bbc6350c9cbe23a844988cf0320f27e3 = L.map(\n                &quot;map_bbc6350c9cbe23a844988cf0320f27e3&quot;,\n                {\n                    center: [29.559684888503615, -95.0830971930759],\n                    crs: L.CRS.EPSG3857,\n                    zoom: 10,\n                    zoomControl: true,\n                    preferCanvas: false,\n                }\n            );\n\n            \n\n        \n    \n            var tile_layer_a77b7020faa7199b19df5d3bbfa69ba3 = L.tileLayer(\n                &quot;https://tile.openstreetmap.org/{z}/{x}/{y}.png&quot;,\n                {&quot;attribution&quot;: &quot;\\u0026copy; \\u003ca href=\\&quot;https://www.openstreetmap.org/copyright\\&quot;\\u003eOpenStreetMap\\u003c/a\\u003e contributors&quot;, &quot;detectRetina&quot;: false, &quot;maxNativeZoom&quot;: 19, &quot;maxZoom&quot;: 19, &quot;minZoom&quot;: 0, &quot;noWrap&quot;: false, &quot;opacity&quot;: 1, &quot;subdomains&quot;: &quot;abc&quot;, &quot;tms&quot;: false}\n            );\n        \n    \n            tile_layer_a77b7020faa7199b19df5d3bbfa69ba3.addTo(map_bbc6350c9cbe23a844988cf0320f27e3);\n        \n    \n            var circle_fa21758b569786bec2baa11a226da59d = L.circle(\n                [29.559684888503615, -95.0830971930759],\n                {&quot;bubblingMouseEvents&quot;: true, &quot;color&quot;: &quot;#d35400&quot;, &quot;dashArray&quot;: null, &quot;dashOffset&quot;: null, &quot;fill&quot;: true, &quot;fillColor&quot;: &quot;#d35400&quot;, &quot;fillOpacity&quot;: 0.2, &quot;fillRule&quot;: &quot;evenodd&quot;, &quot;lineCap&quot;: &quot;round&quot;, &quot;lineJoin&quot;: &quot;round&quot;, &quot;opacity&quot;: 1.0, &quot;radius&quot;: 1000, &quot;stroke&quot;: true, &quot;weight&quot;: 3}\n            ).addTo(map_bbc6350c9cbe23a844988cf0320f27e3);\n        \n    \n        var popup_543149634dd34e9709d1ca9cf9d2c46c = L.popup({&quot;maxWidth&quot;: &quot;100%&quot;});\n\n        \n            \n                var html_14d80f3ac2cdf65063a43991afc7b553 = $(`&lt;div id=&quot;html_14d80f3ac2cdf65063a43991afc7b553&quot; style=&quot;width: 100.0%; height: 100.0%;&quot;&gt;NASA Johnson Space Center&lt;/div&gt;`)[0];\n                popup_543149634dd34e9709d1ca9cf9d2c46c.setContent(html_14d80f3ac2cdf65063a43991afc7b553);\n            \n        \n\n        circle_fa21758b569786bec2baa11a226da59d.bindPopup(popup_543149634dd34e9709d1ca9cf9d2c46c)\n        ;\n\n        \n    \n    \n            var marker_f8f74e7793f5bfcee35c90333188b2f1 = L.marker(\n                [29.559684888503615, -95.0830971930759],\n                {}\n            ).addTo(map_bbc6350c9cbe23a844988cf0320f27e3);\n        \n    \n            var div_icon_6954fb694e621ba9da0e046702e70fb0 = L.divIcon({&quot;className&quot;: &quot;empty&quot;, &quot;html&quot;: &quot;\\u003cdiv style=\\&quot;font-size: 12; color:#d35400;\\&quot;\\u003e\\u003cb\\u003eNASA JSC\\u003c/b\\u003e\\u003c/div\\u003e&quot;, &quot;iconAnchor&quot;: [0, 0], &quot;iconSize&quot;: [20, 20]});\n            marker_f8f74e7793f5bfcee35c90333188b2f1.setIcon(div_icon_6954fb694e621ba9da0e046702e70fb0);\n        \n    \n            tile_layer_a77b7020faa7199b19df5d3bbfa69ba3.addTo(map_bbc6350c9cbe23a844988cf0320f27e3);\n        \n    \n            var circle_12f7442afde2be35c5073fe1d314ebee = L.circle(\n                [28.562302, -80.577356],\n                {&quot;bubblingMouseEvents&quot;: true, &quot;color&quot;: &quot;#d35400&quot;, &quot;dashArray&quot;: null, &quot;dashOffset&quot;: null, &quot;fill&quot;: true, &quot;fillColor&quot;: &quot;#d35400&quot;, &quot;fillOpacity&quot;: 0.2, &quot;fillRule&quot;: &quot;evenodd&quot;, &quot;lineCap&quot;: &quot;round&quot;, &quot;lineJoin&quot;: &quot;round&quot;, &quot;opacity&quot;: 1.0, &quot;radius&quot;: 1000, &quot;stroke&quot;: true, &quot;weight&quot;: 3}\n            ).addTo(map_bbc6350c9cbe23a844988cf0320f27e3);\n        \n    \n        var popup_977d76d0bf1d03459655e4d617233e69 = L.popup({&quot;maxWidth&quot;: &quot;100%&quot;});\n\n        \n            \n                var html_15234ffb1aecf8e231f513820c7c0e5a = $(`&lt;div id=&quot;html_15234ffb1aecf8e231f513820c7c0e5a&quot; style=&quot;width: 100.0%; height: 100.0%;&quot;&gt;CCAFS_LC-40&lt;/div&gt;`)[0];\n                popup_977d76d0bf1d03459655e4d617233e69.setContent(html_15234ffb1aecf8e231f513820c7c0e5a);\n            \n        \n\n        circle_12f7442afde2be35c5073fe1d314ebee.bindPopup(popup_977d76d0bf1d03459655e4d617233e69)\n        ;\n\n        \n    \n    \n            var marker_12747da9fbe6f585f43f5053bdb33efe = L.marker(\n                [28.562302, -80.577356],\n                {}\n            ).addTo(map_bbc6350c9cbe23a844988cf0320f27e3);\n        \n    \n            var div_icon_22edc300699ae46b2659d5244edcd3b7 = L.divIcon({&quot;className&quot;: &quot;empty&quot;, &quot;html&quot;: &quot;\\u003cdiv style=\\&quot;font-size: 12; color:#d35400;\\&quot;\\u003e\\u003cb\\u003eCCAFS_LC-40\\u003c/b\\u003e\\u003c/div\\u003e&quot;, &quot;iconAnchor&quot;: [0, 0], &quot;iconSize&quot;: [20, 20]});\n            marker_12747da9fbe6f585f43f5053bdb33efe.setIcon(div_icon_22edc300699ae46b2659d5244edcd3b7);\n        \n    \n            var circle_9f6d5196463c494873ec1af02aca4fe4 = L.circle(\n                [28.563197, -80.57682],\n                {&quot;bubblingMouseEvents&quot;: true, &quot;color&quot;: &quot;#d35400&quot;, &quot;dashArray&quot;: null, &quot;dashOffset&quot;: null, &quot;fill&quot;: true, &quot;fillColor&quot;: &quot;#d35400&quot;, &quot;fillOpacity&quot;: 0.2, &quot;fillRule&quot;: &quot;evenodd&quot;, &quot;lineCap&quot;: &quot;round&quot;, &quot;lineJoin&quot;: &quot;round&quot;, &quot;opacity&quot;: 1.0, &quot;radius&quot;: 1000, &quot;stroke&quot;: true, &quot;weight&quot;: 3}\n            ).addTo(map_bbc6350c9cbe23a844988cf0320f27e3);\n        \n    \n        var popup_eeaaca34ca672a773389241c95b54def = L.popup({&quot;maxWidth&quot;: &quot;100%&quot;});\n\n        \n            \n                var html_111326161fccc3be338dc755c21b328e = $(`&lt;div id=&quot;html_111326161fccc3be338dc755c21b328e&quot; style=&quot;width: 100.0%; height: 100.0%;&quot;&gt;CCAFS_SLC-40&lt;/div&gt;`)[0];\n                popup_eeaaca34ca672a773389241c95b54def.setContent(html_111326161fccc3be338dc755c21b328e);\n            \n        \n\n        circle_9f6d5196463c494873ec1af02aca4fe4.bindPopup(popup_eeaaca34ca672a773389241c95b54def)\n        ;\n\n        \n    \n    \n            var marker_f52164c9fc2075e75ae663fb3484c5aa = L.marker(\n                [28.563197, -80.57682],\n                {}\n            ).addTo(map_bbc6350c9cbe23a844988cf0320f27e3);\n        \n    \n            var div_icon_48478a3e727f1ba9247886ba138d73dd = L.divIcon({&quot;className&quot;: &quot;empty&quot;, &quot;html&quot;: &quot;\\u003cdiv style=\\&quot;font-size: 12; color:#d35400;\\&quot;\\u003e\\u003cb\\u003eCCAFS_SLC-40\\u003c/b\\u003e\\u003c/div\\u003e&quot;, &quot;iconAnchor&quot;: [0, 0], &quot;iconSize&quot;: [20, 20]});\n            marker_f52164c9fc2075e75ae663fb3484c5aa.setIcon(div_icon_48478a3e727f1ba9247886ba138d73dd);\n        \n    \n            var circle_a5c9b150b12139e8f965d773b6cf413d = L.circle(\n                [28.573255, -80.646895],\n                {&quot;bubblingMouseEvents&quot;: true, &quot;color&quot;: &quot;#d35400&quot;, &quot;dashArray&quot;: null, &quot;dashOffset&quot;: null, &quot;fill&quot;: true, &quot;fillColor&quot;: &quot;#d35400&quot;, &quot;fillOpacity&quot;: 0.2, &quot;fillRule&quot;: &quot;evenodd&quot;, &quot;lineCap&quot;: &quot;round&quot;, &quot;lineJoin&quot;: &quot;round&quot;, &quot;opacity&quot;: 1.0, &quot;radius&quot;: 1000, &quot;stroke&quot;: true, &quot;weight&quot;: 3}\n            ).addTo(map_bbc6350c9cbe23a844988cf0320f27e3);\n        \n    \n        var popup_4008ab2185bc1f504778672e6bfa13ff = L.popup({&quot;maxWidth&quot;: &quot;100%&quot;});\n\n        \n            \n                var html_a681a13c8307c89c9ab2c0db1320d010 = $(`&lt;div id=&quot;html_a681a13c8307c89c9ab2c0db1320d010&quot; style=&quot;width: 100.0%; height: 100.0%;&quot;&gt;KSC_LC-39A&lt;/div&gt;`)[0];\n                popup_4008ab2185bc1f504778672e6bfa13ff.setContent(html_a681a13c8307c89c9ab2c0db1320d010);\n            \n        \n\n        circle_a5c9b150b12139e8f965d773b6cf413d.bindPopup(popup_4008ab2185bc1f504778672e6bfa13ff)\n        ;\n\n        \n    \n    \n            var marker_5edd727515dcffba1fd5e1a34fc5ed45 = L.marker(\n                [28.573255, -80.646895],\n                {}\n            ).addTo(map_bbc6350c9cbe23a844988cf0320f27e3);\n        \n    \n            var div_icon_9af038dd1c79e36618e635536ad29aa0 = L.divIcon({&quot;className&quot;: &quot;empty&quot;, &quot;html&quot;: &quot;\\u003cdiv style=\\&quot;font-size: 12; color:#d35400;\\&quot;\\u003e\\u003cb\\u003eKSC_LC-39A\\u003c/b\\u003e\\u003c/div\\u003e&quot;, &quot;iconAnchor&quot;: [0, 0], &quot;iconSize&quot;: [20, 20]});\n            marker_5edd727515dcffba1fd5e1a34fc5ed45.setIcon(div_icon_9af038dd1c79e36618e635536ad29aa0);\n        \n    \n            var circle_b306cd036437d75f1db76f5378648f8e = L.circle(\n                [34.632834, -120.610745],\n                {&quot;bubblingMouseEvents&quot;: true, &quot;color&quot;: &quot;#d35400&quot;, &quot;dashArray&quot;: null, &quot;dashOffset&quot;: null, &quot;fill&quot;: true, &quot;fillColor&quot;: &quot;#d35400&quot;, &quot;fillOpacity&quot;: 0.2, &quot;fillRule&quot;: &quot;evenodd&quot;, &quot;lineCap&quot;: &quot;round&quot;, &quot;lineJoin&quot;: &quot;round&quot;, &quot;opacity&quot;: 1.0, &quot;radius&quot;: 1000, &quot;stroke&quot;: true, &quot;weight&quot;: 3}\n            ).addTo(map_bbc6350c9cbe23a844988cf0320f27e3);\n        \n    \n        var popup_7e5328e195fd7dba637a62cc475feb01 = L.popup({&quot;maxWidth&quot;: &quot;100%&quot;});\n\n        \n            \n                var html_cbd78a4f7163962511775f76e7b218bc = $(`&lt;div id=&quot;html_cbd78a4f7163962511775f76e7b218bc&quot; style=&quot;width: 100.0%; height: 100.0%;&quot;&gt;VAFB_SLC-4E&lt;/div&gt;`)[0];\n                popup_7e5328e195fd7dba637a62cc475feb01.setContent(html_cbd78a4f7163962511775f76e7b218bc);\n            \n        \n\n        circle_b306cd036437d75f1db76f5378648f8e.bindPopup(popup_7e5328e195fd7dba637a62cc475feb01)\n        ;\n\n        \n    \n    \n            var marker_5cd451b46b323241a5c5bc04b52d57f8 = L.marker(\n                [34.632834, -120.610745],\n                {}\n            ).addTo(map_bbc6350c9cbe23a844988cf0320f27e3);\n        \n    \n            var div_icon_dd0b67f8b63420f1ab1498d7c8d57e6c = L.divIcon({&quot;className&quot;: &quot;empty&quot;, &quot;html&quot;: &quot;\\u003cdiv style=\\&quot;font-size: 12; color:#d35400;\\&quot;\\u003e\\u003cb\\u003eVAFB_SLC-4E\\u003c/b\\u003e\\u003c/div\\u003e&quot;, &quot;iconAnchor&quot;: [0, 0], &quot;iconSize&quot;: [20, 20]});\n            marker_5cd451b46b323241a5c5bc04b52d57f8.setIcon(div_icon_dd0b67f8b63420f1ab1498d7c8d57e6c);\n        \n&lt;/script&gt;\n&lt;/html&gt;\" style=\"position:absolute;width:100%;height:100%;left:0;top:0;border:none !important;\" allowfullscreen webkitallowfullscreen mozallowfullscreen></iframe></div></div>"
          },
          "metadata": {}
        }
      ],
      "execution_count": 9
    },
    {
      "cell_type": "markdown",
      "source": "The generated map with marked launch sites should look similar to the following:\n",
      "metadata": {}
    },
    {
      "cell_type": "markdown",
      "source": "<center>\n    <img src=\"https://cf-courses-data.s3.us.cloud-object-storage.appdomain.cloud/IBM-DS0321EN-SkillsNetwork/labs/module_3/images/launch_site_markers.png\">\n</center>\n",
      "metadata": {}
    },
    {
      "cell_type": "markdown",
      "source": "Now, you can explore the map by zoom-in/out the marked areas\n, and try to answer the following questions:\n\n*   Are all launch sites in proximity to the Equator line?\n*   Are all launch sites in very close proximity to the coast?\n\nAlso please try to explain your findings.\n",
      "metadata": {}
    },
    {
      "cell_type": "code",
      "source": "# Task 2: Mark the success/failed launches for each site on the map\n",
      "metadata": {
        "trusted": true
      },
      "outputs": [],
      "execution_count": 10
    },
    {
      "cell_type": "markdown",
      "source": "Next, let's try to enhance the map by adding the launch outcomes for each site, and see which sites have high success rates.\nRecall that data frame spacex_df has detailed launch records, and the `class` column indicates if this launch was successful or not\n",
      "metadata": {}
    },
    {
      "cell_type": "code",
      "source": "spacex_df.tail(10)",
      "metadata": {
        "trusted": true
      },
      "outputs": [
        {
          "execution_count": 11,
          "output_type": "execute_result",
          "data": {
            "text/plain": "     Launch Site        Lat       Long  class\n46    KSC LC-39A  28.573255 -80.646895      1\n47    KSC LC-39A  28.573255 -80.646895      1\n48    KSC LC-39A  28.573255 -80.646895      1\n49  CCAFS SLC-40  28.563197 -80.576820      1\n50  CCAFS SLC-40  28.563197 -80.576820      1\n51  CCAFS SLC-40  28.563197 -80.576820      0\n52  CCAFS SLC-40  28.563197 -80.576820      0\n53  CCAFS SLC-40  28.563197 -80.576820      0\n54  CCAFS SLC-40  28.563197 -80.576820      1\n55  CCAFS SLC-40  28.563197 -80.576820      0",
            "text/html": "<div>\n<style scoped>\n    .dataframe tbody tr th:only-of-type {\n        vertical-align: middle;\n    }\n\n    .dataframe tbody tr th {\n        vertical-align: top;\n    }\n\n    .dataframe thead th {\n        text-align: right;\n    }\n</style>\n<table border=\"1\" class=\"dataframe\">\n  <thead>\n    <tr style=\"text-align: right;\">\n      <th></th>\n      <th>Launch Site</th>\n      <th>Lat</th>\n      <th>Long</th>\n      <th>class</th>\n    </tr>\n  </thead>\n  <tbody>\n    <tr>\n      <th>46</th>\n      <td>KSC LC-39A</td>\n      <td>28.573255</td>\n      <td>-80.646895</td>\n      <td>1</td>\n    </tr>\n    <tr>\n      <th>47</th>\n      <td>KSC LC-39A</td>\n      <td>28.573255</td>\n      <td>-80.646895</td>\n      <td>1</td>\n    </tr>\n    <tr>\n      <th>48</th>\n      <td>KSC LC-39A</td>\n      <td>28.573255</td>\n      <td>-80.646895</td>\n      <td>1</td>\n    </tr>\n    <tr>\n      <th>49</th>\n      <td>CCAFS SLC-40</td>\n      <td>28.563197</td>\n      <td>-80.576820</td>\n      <td>1</td>\n    </tr>\n    <tr>\n      <th>50</th>\n      <td>CCAFS SLC-40</td>\n      <td>28.563197</td>\n      <td>-80.576820</td>\n      <td>1</td>\n    </tr>\n    <tr>\n      <th>51</th>\n      <td>CCAFS SLC-40</td>\n      <td>28.563197</td>\n      <td>-80.576820</td>\n      <td>0</td>\n    </tr>\n    <tr>\n      <th>52</th>\n      <td>CCAFS SLC-40</td>\n      <td>28.563197</td>\n      <td>-80.576820</td>\n      <td>0</td>\n    </tr>\n    <tr>\n      <th>53</th>\n      <td>CCAFS SLC-40</td>\n      <td>28.563197</td>\n      <td>-80.576820</td>\n      <td>0</td>\n    </tr>\n    <tr>\n      <th>54</th>\n      <td>CCAFS SLC-40</td>\n      <td>28.563197</td>\n      <td>-80.576820</td>\n      <td>1</td>\n    </tr>\n    <tr>\n      <th>55</th>\n      <td>CCAFS SLC-40</td>\n      <td>28.563197</td>\n      <td>-80.576820</td>\n      <td>0</td>\n    </tr>\n  </tbody>\n</table>\n</div>"
          },
          "metadata": {}
        }
      ],
      "execution_count": 11
    },
    {
      "cell_type": "markdown",
      "source": "Next, let's create markers for all launch records.\nIf a launch was successful `(class=1)`, then we use a green marker and if a launch was failed, we use a red marker `(class=0)`\n",
      "metadata": {}
    },
    {
      "cell_type": "markdown",
      "source": "Note that a launch only happens in one of the four launch sites, which means many launch records will have the exact same coordinate. Marker clusters can be a good way to simplify a map containing many markers having the same coordinate.\n",
      "metadata": {}
    },
    {
      "cell_type": "markdown",
      "source": "Let's first create a `MarkerCluster` object\n",
      "metadata": {}
    },
    {
      "cell_type": "code",
      "source": "marker_cluster = MarkerCluster()\n",
      "metadata": {
        "trusted": true
      },
      "outputs": [],
      "execution_count": 12
    },
    {
      "cell_type": "markdown",
      "source": "*TODO:* Create a new column in `launch_sites` dataframe called `marker_color` to store the marker colors based on the `class` value\n",
      "metadata": {}
    },
    {
      "cell_type": "code",
      "source": "\n# Apply a function to check the value of `class` column\n# If class=1, marker_color value will be green\n# If class=0, marker_color value will be red\ndef get_marker_colour(class_value):\n    return 'green' if class_value == 1 else 'red'",
      "metadata": {
        "trusted": true
      },
      "outputs": [],
      "execution_count": 13
    },
    {
      "cell_type": "markdown",
      "source": "*TODO:* For each launch result in `spacex_df` data frame, add a `folium.Marker` to `marker_cluster`\n",
      "metadata": {}
    },
    {
      "cell_type": "code",
      "source": "# Add marker_cluster to current site_map\nsite_map.add_child(marker_cluster)\n\n# for each row in spacex_df data frame\n# create a Marker object with its coordinate\n# and customize the Marker's icon property to indicate if this launch was successed or failed, \n# e.g., icon=folium.Icon(color='white', icon_color=row['marker_color']\nfor index, record in spacex_df.iterrows():\n    marker_colour = get_marker_colour(record['Class']) \n    # TODO: Create and add a Marker cluster to the site map\n    # marker = folium.Marker(...)\n   marker = folium.map.Marker(\n    location = [record['Latitude'], record['Longitude']],\n    icon= folium.Icon(color = 'white', icon_color = marker_colour)\n    )\n    marker_cluster.add_child(marker)\n\nsite_map",
      "metadata": {
        "trusted": true
      },
      "outputs": [],
      "execution_count": null
    },
    {
      "cell_type": "markdown",
      "source": "Your updated map may look like the following screenshots:\n",
      "metadata": {}
    },
    {
      "cell_type": "markdown",
      "source": "<center>\n    <img src=\"https://cf-courses-data.s3.us.cloud-object-storage.appdomain.cloud/IBM-DS0321EN-SkillsNetwork/labs/module_3/images/launch_site_marker_cluster.png\">\n</center>\n",
      "metadata": {}
    },
    {
      "cell_type": "markdown",
      "source": "<center>\n    <img src=\"https://cf-courses-data.s3.us.cloud-object-storage.appdomain.cloud/IBM-DS0321EN-SkillsNetwork/labs/module_3/images/launch_site_marker_cluster_zoomed.png\">\n</center>\n",
      "metadata": {}
    },
    {
      "cell_type": "markdown",
      "source": "From the color-labeled markers in marker clusters, you should be able to easily identify which launch sites have relatively high success rates.\n",
      "metadata": {}
    },
    {
      "cell_type": "code",
      "source": "# TASK 3: Calculate the distances between a launch site to its proximities\n",
      "metadata": {
        "trusted": true
      },
      "outputs": [],
      "execution_count": 15
    },
    {
      "cell_type": "markdown",
      "source": "Next, we need to explore and analyze the proximities of launch sites.\n",
      "metadata": {}
    },
    {
      "cell_type": "markdown",
      "source": "Let's first add a `MousePosition` on the map to get coordinate for a mouse over a point on the map. As such, while you are exploring the map, you can easily find the coordinates of any points of interests (such as railway)\n",
      "metadata": {}
    },
    {
      "cell_type": "code",
      "source": "# Add Mouse Position to get the coordinate (Lat, Long) for a mouse over on the map\nformatter = \"function(num) {return L.Util.formatNum(num, 5);};\"\nmouse_position = MousePosition(\n    position='topright',\n    separator=' Long: ',\n    empty_string='NaN',\n    lng_first=False,\n    num_digits=20,\n    prefix='Lat:',\n    lat_formatter=formatter,\n    lng_formatter=formatter,\n)\n\nsite_map.add_child(mouse_position)\nsite_map",
      "metadata": {
        "trusted": true
      },
      "outputs": [
        {
          "execution_count": 15,
          "output_type": "execute_result",
          "data": {
            "text/plain": "<folium.folium.Map at 0x54417d8>",
            "text/html": "<div style=\"width:100%;\"><div style=\"position:relative;width:100%;height:0;padding-bottom:60%;\"><span style=\"color:#565656\">Make this Notebook Trusted to load map: File -> Trust Notebook</span><iframe srcdoc=\"&lt;!DOCTYPE html&gt;\n&lt;html&gt;\n&lt;head&gt;\n    \n    &lt;meta http-equiv=&quot;content-type&quot; content=&quot;text/html; charset=UTF-8&quot; /&gt;\n    \n        &lt;script&gt;\n            L_NO_TOUCH = false;\n            L_DISABLE_3D = false;\n        &lt;/script&gt;\n    \n    &lt;style&gt;html, body {width: 100%;height: 100%;margin: 0;padding: 0;}&lt;/style&gt;\n    &lt;style&gt;#map {position:absolute;top:0;bottom:0;right:0;left:0;}&lt;/style&gt;\n    &lt;script src=&quot;https://cdn.jsdelivr.net/npm/leaflet@1.9.3/dist/leaflet.js&quot;&gt;&lt;/script&gt;\n    &lt;script src=&quot;https://code.jquery.com/jquery-3.7.1.min.js&quot;&gt;&lt;/script&gt;\n    &lt;script src=&quot;https://cdn.jsdelivr.net/npm/bootstrap@5.2.2/dist/js/bootstrap.bundle.min.js&quot;&gt;&lt;/script&gt;\n    &lt;script src=&quot;https://cdnjs.cloudflare.com/ajax/libs/Leaflet.awesome-markers/2.0.2/leaflet.awesome-markers.js&quot;&gt;&lt;/script&gt;\n    &lt;link rel=&quot;stylesheet&quot; href=&quot;https://cdn.jsdelivr.net/npm/leaflet@1.9.3/dist/leaflet.css&quot;/&gt;\n    &lt;link rel=&quot;stylesheet&quot; href=&quot;https://cdn.jsdelivr.net/npm/bootstrap@5.2.2/dist/css/bootstrap.min.css&quot;/&gt;\n    &lt;link rel=&quot;stylesheet&quot; href=&quot;https://netdna.bootstrapcdn.com/bootstrap/3.0.0/css/bootstrap-glyphicons.css&quot;/&gt;\n    &lt;link rel=&quot;stylesheet&quot; href=&quot;https://cdn.jsdelivr.net/npm/@fortawesome/fontawesome-free@6.2.0/css/all.min.css&quot;/&gt;\n    &lt;link rel=&quot;stylesheet&quot; href=&quot;https://cdnjs.cloudflare.com/ajax/libs/Leaflet.awesome-markers/2.0.2/leaflet.awesome-markers.css&quot;/&gt;\n    &lt;link rel=&quot;stylesheet&quot; href=&quot;https://cdn.jsdelivr.net/gh/python-visualization/folium/folium/templates/leaflet.awesome.rotate.min.css&quot;/&gt;\n    \n            &lt;meta name=&quot;viewport&quot; content=&quot;width=device-width,\n                initial-scale=1.0, maximum-scale=1.0, user-scalable=no&quot; /&gt;\n            &lt;style&gt;\n                #map_bbc6350c9cbe23a844988cf0320f27e3 {\n                    position: relative;\n                    width: 100.0%;\n                    height: 100.0%;\n                    left: 0.0%;\n                    top: 0.0%;\n                }\n                .leaflet-container { font-size: 1rem; }\n            &lt;/style&gt;\n        \n    &lt;script src=&quot;https://cdn.jsdelivr.net/gh/ardhi/Leaflet.MousePosition/src/L.Control.MousePosition.min.js&quot;&gt;&lt;/script&gt;\n    &lt;link rel=&quot;stylesheet&quot; href=&quot;https://cdn.jsdelivr.net/gh/ardhi/Leaflet.MousePosition/src/L.Control.MousePosition.min.css&quot;/&gt;\n&lt;/head&gt;\n&lt;body&gt;\n    \n    \n            &lt;div class=&quot;folium-map&quot; id=&quot;map_bbc6350c9cbe23a844988cf0320f27e3&quot; &gt;&lt;/div&gt;\n        \n&lt;/body&gt;\n&lt;script&gt;\n    \n    \n            var map_bbc6350c9cbe23a844988cf0320f27e3 = L.map(\n                &quot;map_bbc6350c9cbe23a844988cf0320f27e3&quot;,\n                {\n                    center: [29.559684888503615, -95.0830971930759],\n                    crs: L.CRS.EPSG3857,\n                    zoom: 10,\n                    zoomControl: true,\n                    preferCanvas: false,\n                }\n            );\n\n            \n\n        \n    \n            var tile_layer_a77b7020faa7199b19df5d3bbfa69ba3 = L.tileLayer(\n                &quot;https://tile.openstreetmap.org/{z}/{x}/{y}.png&quot;,\n                {&quot;attribution&quot;: &quot;\\u0026copy; \\u003ca href=\\&quot;https://www.openstreetmap.org/copyright\\&quot;\\u003eOpenStreetMap\\u003c/a\\u003e contributors&quot;, &quot;detectRetina&quot;: false, &quot;maxNativeZoom&quot;: 19, &quot;maxZoom&quot;: 19, &quot;minZoom&quot;: 0, &quot;noWrap&quot;: false, &quot;opacity&quot;: 1, &quot;subdomains&quot;: &quot;abc&quot;, &quot;tms&quot;: false}\n            );\n        \n    \n            tile_layer_a77b7020faa7199b19df5d3bbfa69ba3.addTo(map_bbc6350c9cbe23a844988cf0320f27e3);\n        \n    \n            var circle_fa21758b569786bec2baa11a226da59d = L.circle(\n                [29.559684888503615, -95.0830971930759],\n                {&quot;bubblingMouseEvents&quot;: true, &quot;color&quot;: &quot;#d35400&quot;, &quot;dashArray&quot;: null, &quot;dashOffset&quot;: null, &quot;fill&quot;: true, &quot;fillColor&quot;: &quot;#d35400&quot;, &quot;fillOpacity&quot;: 0.2, &quot;fillRule&quot;: &quot;evenodd&quot;, &quot;lineCap&quot;: &quot;round&quot;, &quot;lineJoin&quot;: &quot;round&quot;, &quot;opacity&quot;: 1.0, &quot;radius&quot;: 1000, &quot;stroke&quot;: true, &quot;weight&quot;: 3}\n            ).addTo(map_bbc6350c9cbe23a844988cf0320f27e3);\n        \n    \n        var popup_543149634dd34e9709d1ca9cf9d2c46c = L.popup({&quot;maxWidth&quot;: &quot;100%&quot;});\n\n        \n            \n                var html_14d80f3ac2cdf65063a43991afc7b553 = $(`&lt;div id=&quot;html_14d80f3ac2cdf65063a43991afc7b553&quot; style=&quot;width: 100.0%; height: 100.0%;&quot;&gt;NASA Johnson Space Center&lt;/div&gt;`)[0];\n                popup_543149634dd34e9709d1ca9cf9d2c46c.setContent(html_14d80f3ac2cdf65063a43991afc7b553);\n            \n        \n\n        circle_fa21758b569786bec2baa11a226da59d.bindPopup(popup_543149634dd34e9709d1ca9cf9d2c46c)\n        ;\n\n        \n    \n    \n            var marker_f8f74e7793f5bfcee35c90333188b2f1 = L.marker(\n                [29.559684888503615, -95.0830971930759],\n                {}\n            ).addTo(map_bbc6350c9cbe23a844988cf0320f27e3);\n        \n    \n            var div_icon_6954fb694e621ba9da0e046702e70fb0 = L.divIcon({&quot;className&quot;: &quot;empty&quot;, &quot;html&quot;: &quot;\\u003cdiv style=\\&quot;font-size: 12; color:#d35400;\\&quot;\\u003e\\u003cb\\u003eNASA JSC\\u003c/b\\u003e\\u003c/div\\u003e&quot;, &quot;iconAnchor&quot;: [0, 0], &quot;iconSize&quot;: [20, 20]});\n            marker_f8f74e7793f5bfcee35c90333188b2f1.setIcon(div_icon_6954fb694e621ba9da0e046702e70fb0);\n        \n    \n            tile_layer_a77b7020faa7199b19df5d3bbfa69ba3.addTo(map_bbc6350c9cbe23a844988cf0320f27e3);\n        \n    \n            var circle_12f7442afde2be35c5073fe1d314ebee = L.circle(\n                [28.562302, -80.577356],\n                {&quot;bubblingMouseEvents&quot;: true, &quot;color&quot;: &quot;#d35400&quot;, &quot;dashArray&quot;: null, &quot;dashOffset&quot;: null, &quot;fill&quot;: true, &quot;fillColor&quot;: &quot;#d35400&quot;, &quot;fillOpacity&quot;: 0.2, &quot;fillRule&quot;: &quot;evenodd&quot;, &quot;lineCap&quot;: &quot;round&quot;, &quot;lineJoin&quot;: &quot;round&quot;, &quot;opacity&quot;: 1.0, &quot;radius&quot;: 1000, &quot;stroke&quot;: true, &quot;weight&quot;: 3}\n            ).addTo(map_bbc6350c9cbe23a844988cf0320f27e3);\n        \n    \n        var popup_977d76d0bf1d03459655e4d617233e69 = L.popup({&quot;maxWidth&quot;: &quot;100%&quot;});\n\n        \n            \n                var html_15234ffb1aecf8e231f513820c7c0e5a = $(`&lt;div id=&quot;html_15234ffb1aecf8e231f513820c7c0e5a&quot; style=&quot;width: 100.0%; height: 100.0%;&quot;&gt;CCAFS_LC-40&lt;/div&gt;`)[0];\n                popup_977d76d0bf1d03459655e4d617233e69.setContent(html_15234ffb1aecf8e231f513820c7c0e5a);\n            \n        \n\n        circle_12f7442afde2be35c5073fe1d314ebee.bindPopup(popup_977d76d0bf1d03459655e4d617233e69)\n        ;\n\n        \n    \n    \n            var marker_12747da9fbe6f585f43f5053bdb33efe = L.marker(\n                [28.562302, -80.577356],\n                {}\n            ).addTo(map_bbc6350c9cbe23a844988cf0320f27e3);\n        \n    \n            var div_icon_22edc300699ae46b2659d5244edcd3b7 = L.divIcon({&quot;className&quot;: &quot;empty&quot;, &quot;html&quot;: &quot;\\u003cdiv style=\\&quot;font-size: 12; color:#d35400;\\&quot;\\u003e\\u003cb\\u003eCCAFS_LC-40\\u003c/b\\u003e\\u003c/div\\u003e&quot;, &quot;iconAnchor&quot;: [0, 0], &quot;iconSize&quot;: [20, 20]});\n            marker_12747da9fbe6f585f43f5053bdb33efe.setIcon(div_icon_22edc300699ae46b2659d5244edcd3b7);\n        \n    \n            var circle_9f6d5196463c494873ec1af02aca4fe4 = L.circle(\n                [28.563197, -80.57682],\n                {&quot;bubblingMouseEvents&quot;: true, &quot;color&quot;: &quot;#d35400&quot;, &quot;dashArray&quot;: null, &quot;dashOffset&quot;: null, &quot;fill&quot;: true, &quot;fillColor&quot;: &quot;#d35400&quot;, &quot;fillOpacity&quot;: 0.2, &quot;fillRule&quot;: &quot;evenodd&quot;, &quot;lineCap&quot;: &quot;round&quot;, &quot;lineJoin&quot;: &quot;round&quot;, &quot;opacity&quot;: 1.0, &quot;radius&quot;: 1000, &quot;stroke&quot;: true, &quot;weight&quot;: 3}\n            ).addTo(map_bbc6350c9cbe23a844988cf0320f27e3);\n        \n    \n        var popup_eeaaca34ca672a773389241c95b54def = L.popup({&quot;maxWidth&quot;: &quot;100%&quot;});\n\n        \n            \n                var html_111326161fccc3be338dc755c21b328e = $(`&lt;div id=&quot;html_111326161fccc3be338dc755c21b328e&quot; style=&quot;width: 100.0%; height: 100.0%;&quot;&gt;CCAFS_SLC-40&lt;/div&gt;`)[0];\n                popup_eeaaca34ca672a773389241c95b54def.setContent(html_111326161fccc3be338dc755c21b328e);\n            \n        \n\n        circle_9f6d5196463c494873ec1af02aca4fe4.bindPopup(popup_eeaaca34ca672a773389241c95b54def)\n        ;\n\n        \n    \n    \n            var marker_f52164c9fc2075e75ae663fb3484c5aa = L.marker(\n                [28.563197, -80.57682],\n                {}\n            ).addTo(map_bbc6350c9cbe23a844988cf0320f27e3);\n        \n    \n            var div_icon_48478a3e727f1ba9247886ba138d73dd = L.divIcon({&quot;className&quot;: &quot;empty&quot;, &quot;html&quot;: &quot;\\u003cdiv style=\\&quot;font-size: 12; color:#d35400;\\&quot;\\u003e\\u003cb\\u003eCCAFS_SLC-40\\u003c/b\\u003e\\u003c/div\\u003e&quot;, &quot;iconAnchor&quot;: [0, 0], &quot;iconSize&quot;: [20, 20]});\n            marker_f52164c9fc2075e75ae663fb3484c5aa.setIcon(div_icon_48478a3e727f1ba9247886ba138d73dd);\n        \n    \n            var circle_a5c9b150b12139e8f965d773b6cf413d = L.circle(\n                [28.573255, -80.646895],\n                {&quot;bubblingMouseEvents&quot;: true, &quot;color&quot;: &quot;#d35400&quot;, &quot;dashArray&quot;: null, &quot;dashOffset&quot;: null, &quot;fill&quot;: true, &quot;fillColor&quot;: &quot;#d35400&quot;, &quot;fillOpacity&quot;: 0.2, &quot;fillRule&quot;: &quot;evenodd&quot;, &quot;lineCap&quot;: &quot;round&quot;, &quot;lineJoin&quot;: &quot;round&quot;, &quot;opacity&quot;: 1.0, &quot;radius&quot;: 1000, &quot;stroke&quot;: true, &quot;weight&quot;: 3}\n            ).addTo(map_bbc6350c9cbe23a844988cf0320f27e3);\n        \n    \n        var popup_4008ab2185bc1f504778672e6bfa13ff = L.popup({&quot;maxWidth&quot;: &quot;100%&quot;});\n\n        \n            \n                var html_a681a13c8307c89c9ab2c0db1320d010 = $(`&lt;div id=&quot;html_a681a13c8307c89c9ab2c0db1320d010&quot; style=&quot;width: 100.0%; height: 100.0%;&quot;&gt;KSC_LC-39A&lt;/div&gt;`)[0];\n                popup_4008ab2185bc1f504778672e6bfa13ff.setContent(html_a681a13c8307c89c9ab2c0db1320d010);\n            \n        \n\n        circle_a5c9b150b12139e8f965d773b6cf413d.bindPopup(popup_4008ab2185bc1f504778672e6bfa13ff)\n        ;\n\n        \n    \n    \n            var marker_5edd727515dcffba1fd5e1a34fc5ed45 = L.marker(\n                [28.573255, -80.646895],\n                {}\n            ).addTo(map_bbc6350c9cbe23a844988cf0320f27e3);\n        \n    \n            var div_icon_9af038dd1c79e36618e635536ad29aa0 = L.divIcon({&quot;className&quot;: &quot;empty&quot;, &quot;html&quot;: &quot;\\u003cdiv style=\\&quot;font-size: 12; color:#d35400;\\&quot;\\u003e\\u003cb\\u003eKSC_LC-39A\\u003c/b\\u003e\\u003c/div\\u003e&quot;, &quot;iconAnchor&quot;: [0, 0], &quot;iconSize&quot;: [20, 20]});\n            marker_5edd727515dcffba1fd5e1a34fc5ed45.setIcon(div_icon_9af038dd1c79e36618e635536ad29aa0);\n        \n    \n            var circle_b306cd036437d75f1db76f5378648f8e = L.circle(\n                [34.632834, -120.610745],\n                {&quot;bubblingMouseEvents&quot;: true, &quot;color&quot;: &quot;#d35400&quot;, &quot;dashArray&quot;: null, &quot;dashOffset&quot;: null, &quot;fill&quot;: true, &quot;fillColor&quot;: &quot;#d35400&quot;, &quot;fillOpacity&quot;: 0.2, &quot;fillRule&quot;: &quot;evenodd&quot;, &quot;lineCap&quot;: &quot;round&quot;, &quot;lineJoin&quot;: &quot;round&quot;, &quot;opacity&quot;: 1.0, &quot;radius&quot;: 1000, &quot;stroke&quot;: true, &quot;weight&quot;: 3}\n            ).addTo(map_bbc6350c9cbe23a844988cf0320f27e3);\n        \n    \n        var popup_7e5328e195fd7dba637a62cc475feb01 = L.popup({&quot;maxWidth&quot;: &quot;100%&quot;});\n\n        \n            \n                var html_cbd78a4f7163962511775f76e7b218bc = $(`&lt;div id=&quot;html_cbd78a4f7163962511775f76e7b218bc&quot; style=&quot;width: 100.0%; height: 100.0%;&quot;&gt;VAFB_SLC-4E&lt;/div&gt;`)[0];\n                popup_7e5328e195fd7dba637a62cc475feb01.setContent(html_cbd78a4f7163962511775f76e7b218bc);\n            \n        \n\n        circle_b306cd036437d75f1db76f5378648f8e.bindPopup(popup_7e5328e195fd7dba637a62cc475feb01)\n        ;\n\n        \n    \n    \n            var marker_5cd451b46b323241a5c5bc04b52d57f8 = L.marker(\n                [34.632834, -120.610745],\n                {}\n            ).addTo(map_bbc6350c9cbe23a844988cf0320f27e3);\n        \n    \n            var div_icon_dd0b67f8b63420f1ab1498d7c8d57e6c = L.divIcon({&quot;className&quot;: &quot;empty&quot;, &quot;html&quot;: &quot;\\u003cdiv style=\\&quot;font-size: 12; color:#d35400;\\&quot;\\u003e\\u003cb\\u003eVAFB_SLC-4E\\u003c/b\\u003e\\u003c/div\\u003e&quot;, &quot;iconAnchor&quot;: [0, 0], &quot;iconSize&quot;: [20, 20]});\n            marker_5cd451b46b323241a5c5bc04b52d57f8.setIcon(div_icon_dd0b67f8b63420f1ab1498d7c8d57e6c);\n        \n    \n            tile_layer_a77b7020faa7199b19df5d3bbfa69ba3.addTo(map_bbc6350c9cbe23a844988cf0320f27e3);\n        \n    \n            var mouse_position_f9262b5c0c51aaa720904889dcef5946 = new L.Control.MousePosition(\n                {&quot;emptyString&quot;: &quot;NaN&quot;, &quot;lngFirst&quot;: false, &quot;numDigits&quot;: 20, &quot;position&quot;: &quot;topright&quot;, &quot;prefix&quot;: &quot;Lat:&quot;, &quot;separator&quot;: &quot; Long: &quot;}\n            );\n            mouse_position_f9262b5c0c51aaa720904889dcef5946.options[&quot;latFormatter&quot;] =\n                function(num) {return L.Util.formatNum(num, 5);};;\n            mouse_position_f9262b5c0c51aaa720904889dcef5946.options[&quot;lngFormatter&quot;] =\n                function(num) {return L.Util.formatNum(num, 5);};;\n            map_bbc6350c9cbe23a844988cf0320f27e3.addControl(mouse_position_f9262b5c0c51aaa720904889dcef5946);\n        \n&lt;/script&gt;\n&lt;/html&gt;\" style=\"position:absolute;width:100%;height:100%;left:0;top:0;border:none !important;\" allowfullscreen webkitallowfullscreen mozallowfullscreen></iframe></div></div>"
          },
          "metadata": {}
        }
      ],
      "execution_count": 16
    },
    {
      "cell_type": "markdown",
      "source": "Now zoom in to a launch site and explore its proximity to see if you can easily find any railway, highway, coastline, etc. Move your mouse to these points and mark down their coordinates (shown on the top-left) in order to the distance to the launch site.\n",
      "metadata": {}
    },
    {
      "cell_type": "markdown",
      "source": "Now zoom in to a launch site and explore its proximity to see if you can easily find any railway, highway, coastline, etc. Move your mouse to these points and mark down their coordinates (shown on the top-left) in order to the distance to the launch site.\n",
      "metadata": {}
    },
    {
      "cell_type": "code",
      "source": "from math import sin, cos, sqrt, atan2, radians\n\ndef calculate_distance(lat1, lon1, lat2, lon2):\n    # approximate radius of earth in km\n    R = 6373.0\n\n    lat1 = radians(lat1)\n    lon1 = radians(lon1)\n    lat2 = radians(lat2)\n    lon2 = radians(lon2)\n\n    dlon = lon2 - lon1\n    dlat = lat2 - lat1\n\n    a = sin(dlat / 2)**2 + cos(lat1) * cos(lat2) * sin(dlon / 2)**2\n    c = 2 * atan2(sqrt(a), sqrt(1 - a))\n\n    distance = R * c\n    return distance",
      "metadata": {
        "trusted": true
      },
      "outputs": [],
      "execution_count": 17
    },
    {
      "cell_type": "markdown",
      "source": "*TODO:* Mark down a point on the closest coastline using MousePosition and calculate the distance between the coastline point and the launch site.\n",
      "metadata": {}
    },
    {
      "cell_type": "code",
      "source": "# find coordinate of the closet coastline28.562302, -80.577356\n# e.g.,: Lat: 28.56367  Lon: -80.57163\n# distance_coastline = calculate_distance(launch_site_lat, launch_site_lon, coastline_lat, coastline_lon)\ndistance_coastline = calculate_distance(28.562302, -80.577356, 28.56367, -80.57163)\ndistance_coastline",
      "metadata": {
        "trusted": true
      },
      "outputs": [
        {
          "execution_count": 17,
          "output_type": "execute_result",
          "data": {
            "text/plain": "0.5797120571581803"
          },
          "metadata": {}
        }
      ],
      "execution_count": 18
    },
    {
      "cell_type": "code",
      "source": "# Create and add a folium.Marker on your selected closest coastline point on the map\n# Display the distance between coastline point and launch site using the icon property \n# for example\n# distance_marker = folium.Marker(\n#    coordinate,\n#    icon=DivIcon(\n#        icon_size=(20,20),\n#        icon_anchor=(0,0),\n#        html='<div style=\"font-size: 12; color:#d35400;\"><b>%s</b></div>' % \"{:10.2f} KM\".format(distance),\n#        )\n#    )\ncoastline_marker = folium.Marker(\n    [28.56367, -80.57163],\n    icon=DivIcon(\n        icon_size=(20, 20),\n        icon_anchor=(0, 0),\n        html=f'<div style=\"font-size: 12; color:#d35400;\"><b>{distance_coastline:.2f} KM</b></div>'\n    )\n)\ncoastline_marker.add_to(site_map)\n\n",
      "metadata": {
        "trusted": true
      },
      "outputs": [
        {
          "execution_count": 18,
          "output_type": "execute_result",
          "data": {
            "text/plain": "<folium.map.Marker at 0x57aab88>"
          },
          "metadata": {}
        }
      ],
      "execution_count": 19
    },
    {
      "cell_type": "markdown",
      "source": "*TODO:* Draw a `PolyLine` between a launch site to the selected coastline point\n",
      "metadata": {}
    },
    {
      "cell_type": "code",
      "source": "# Create a `folium.PolyLine` object using the coastline coordinates and launch site coordinate\n# lines=folium.PolyLine(locations=coordinates, weight=1)\nlines = folium.PolyLine(\n    locations=[[28.562302, -80.577356], [28.56406, -80.568]],\n    weight=1,\n    color='blue'  \n)\nlines.add_to(site_map)\n\nsite_map.add_child(lines)",
      "metadata": {
        "trusted": true
      },
      "outputs": [
        {
          "execution_count": 19,
          "output_type": "execute_result",
          "data": {
            "text/plain": "<folium.folium.Map at 0x54417d8>",
            "text/html": "<div style=\"width:100%;\"><div style=\"position:relative;width:100%;height:0;padding-bottom:60%;\"><span style=\"color:#565656\">Make this Notebook Trusted to load map: File -> Trust Notebook</span><iframe srcdoc=\"&lt;!DOCTYPE html&gt;\n&lt;html&gt;\n&lt;head&gt;\n    \n    &lt;meta http-equiv=&quot;content-type&quot; content=&quot;text/html; charset=UTF-8&quot; /&gt;\n    \n        &lt;script&gt;\n            L_NO_TOUCH = false;\n            L_DISABLE_3D = false;\n        &lt;/script&gt;\n    \n    &lt;style&gt;html, body {width: 100%;height: 100%;margin: 0;padding: 0;}&lt;/style&gt;\n    &lt;style&gt;#map {position:absolute;top:0;bottom:0;right:0;left:0;}&lt;/style&gt;\n    &lt;script src=&quot;https://cdn.jsdelivr.net/npm/leaflet@1.9.3/dist/leaflet.js&quot;&gt;&lt;/script&gt;\n    &lt;script src=&quot;https://code.jquery.com/jquery-3.7.1.min.js&quot;&gt;&lt;/script&gt;\n    &lt;script src=&quot;https://cdn.jsdelivr.net/npm/bootstrap@5.2.2/dist/js/bootstrap.bundle.min.js&quot;&gt;&lt;/script&gt;\n    &lt;script src=&quot;https://cdnjs.cloudflare.com/ajax/libs/Leaflet.awesome-markers/2.0.2/leaflet.awesome-markers.js&quot;&gt;&lt;/script&gt;\n    &lt;link rel=&quot;stylesheet&quot; href=&quot;https://cdn.jsdelivr.net/npm/leaflet@1.9.3/dist/leaflet.css&quot;/&gt;\n    &lt;link rel=&quot;stylesheet&quot; href=&quot;https://cdn.jsdelivr.net/npm/bootstrap@5.2.2/dist/css/bootstrap.min.css&quot;/&gt;\n    &lt;link rel=&quot;stylesheet&quot; href=&quot;https://netdna.bootstrapcdn.com/bootstrap/3.0.0/css/bootstrap-glyphicons.css&quot;/&gt;\n    &lt;link rel=&quot;stylesheet&quot; href=&quot;https://cdn.jsdelivr.net/npm/@fortawesome/fontawesome-free@6.2.0/css/all.min.css&quot;/&gt;\n    &lt;link rel=&quot;stylesheet&quot; href=&quot;https://cdnjs.cloudflare.com/ajax/libs/Leaflet.awesome-markers/2.0.2/leaflet.awesome-markers.css&quot;/&gt;\n    &lt;link rel=&quot;stylesheet&quot; href=&quot;https://cdn.jsdelivr.net/gh/python-visualization/folium/folium/templates/leaflet.awesome.rotate.min.css&quot;/&gt;\n    \n            &lt;meta name=&quot;viewport&quot; content=&quot;width=device-width,\n                initial-scale=1.0, maximum-scale=1.0, user-scalable=no&quot; /&gt;\n            &lt;style&gt;\n                #map_bbc6350c9cbe23a844988cf0320f27e3 {\n                    position: relative;\n                    width: 100.0%;\n                    height: 100.0%;\n                    left: 0.0%;\n                    top: 0.0%;\n                }\n                .leaflet-container { font-size: 1rem; }\n            &lt;/style&gt;\n        \n    &lt;script src=&quot;https://cdn.jsdelivr.net/gh/ardhi/Leaflet.MousePosition/src/L.Control.MousePosition.min.js&quot;&gt;&lt;/script&gt;\n    &lt;link rel=&quot;stylesheet&quot; href=&quot;https://cdn.jsdelivr.net/gh/ardhi/Leaflet.MousePosition/src/L.Control.MousePosition.min.css&quot;/&gt;\n&lt;/head&gt;\n&lt;body&gt;\n    \n    \n            &lt;div class=&quot;folium-map&quot; id=&quot;map_bbc6350c9cbe23a844988cf0320f27e3&quot; &gt;&lt;/div&gt;\n        \n&lt;/body&gt;\n&lt;script&gt;\n    \n    \n            var map_bbc6350c9cbe23a844988cf0320f27e3 = L.map(\n                &quot;map_bbc6350c9cbe23a844988cf0320f27e3&quot;,\n                {\n                    center: [29.559684888503615, -95.0830971930759],\n                    crs: L.CRS.EPSG3857,\n                    zoom: 10,\n                    zoomControl: true,\n                    preferCanvas: false,\n                }\n            );\n\n            \n\n        \n    \n            var tile_layer_a77b7020faa7199b19df5d3bbfa69ba3 = L.tileLayer(\n                &quot;https://tile.openstreetmap.org/{z}/{x}/{y}.png&quot;,\n                {&quot;attribution&quot;: &quot;\\u0026copy; \\u003ca href=\\&quot;https://www.openstreetmap.org/copyright\\&quot;\\u003eOpenStreetMap\\u003c/a\\u003e contributors&quot;, &quot;detectRetina&quot;: false, &quot;maxNativeZoom&quot;: 19, &quot;maxZoom&quot;: 19, &quot;minZoom&quot;: 0, &quot;noWrap&quot;: false, &quot;opacity&quot;: 1, &quot;subdomains&quot;: &quot;abc&quot;, &quot;tms&quot;: false}\n            );\n        \n    \n            tile_layer_a77b7020faa7199b19df5d3bbfa69ba3.addTo(map_bbc6350c9cbe23a844988cf0320f27e3);\n        \n    \n            var circle_fa21758b569786bec2baa11a226da59d = L.circle(\n                [29.559684888503615, -95.0830971930759],\n                {&quot;bubblingMouseEvents&quot;: true, &quot;color&quot;: &quot;#d35400&quot;, &quot;dashArray&quot;: null, &quot;dashOffset&quot;: null, &quot;fill&quot;: true, &quot;fillColor&quot;: &quot;#d35400&quot;, &quot;fillOpacity&quot;: 0.2, &quot;fillRule&quot;: &quot;evenodd&quot;, &quot;lineCap&quot;: &quot;round&quot;, &quot;lineJoin&quot;: &quot;round&quot;, &quot;opacity&quot;: 1.0, &quot;radius&quot;: 1000, &quot;stroke&quot;: true, &quot;weight&quot;: 3}\n            ).addTo(map_bbc6350c9cbe23a844988cf0320f27e3);\n        \n    \n        var popup_543149634dd34e9709d1ca9cf9d2c46c = L.popup({&quot;maxWidth&quot;: &quot;100%&quot;});\n\n        \n            \n                var html_14d80f3ac2cdf65063a43991afc7b553 = $(`&lt;div id=&quot;html_14d80f3ac2cdf65063a43991afc7b553&quot; style=&quot;width: 100.0%; height: 100.0%;&quot;&gt;NASA Johnson Space Center&lt;/div&gt;`)[0];\n                popup_543149634dd34e9709d1ca9cf9d2c46c.setContent(html_14d80f3ac2cdf65063a43991afc7b553);\n            \n        \n\n        circle_fa21758b569786bec2baa11a226da59d.bindPopup(popup_543149634dd34e9709d1ca9cf9d2c46c)\n        ;\n\n        \n    \n    \n            var marker_f8f74e7793f5bfcee35c90333188b2f1 = L.marker(\n                [29.559684888503615, -95.0830971930759],\n                {}\n            ).addTo(map_bbc6350c9cbe23a844988cf0320f27e3);\n        \n    \n            var div_icon_6954fb694e621ba9da0e046702e70fb0 = L.divIcon({&quot;className&quot;: &quot;empty&quot;, &quot;html&quot;: &quot;\\u003cdiv style=\\&quot;font-size: 12; color:#d35400;\\&quot;\\u003e\\u003cb\\u003eNASA JSC\\u003c/b\\u003e\\u003c/div\\u003e&quot;, &quot;iconAnchor&quot;: [0, 0], &quot;iconSize&quot;: [20, 20]});\n            marker_f8f74e7793f5bfcee35c90333188b2f1.setIcon(div_icon_6954fb694e621ba9da0e046702e70fb0);\n        \n    \n            tile_layer_a77b7020faa7199b19df5d3bbfa69ba3.addTo(map_bbc6350c9cbe23a844988cf0320f27e3);\n        \n    \n            var circle_12f7442afde2be35c5073fe1d314ebee = L.circle(\n                [28.562302, -80.577356],\n                {&quot;bubblingMouseEvents&quot;: true, &quot;color&quot;: &quot;#d35400&quot;, &quot;dashArray&quot;: null, &quot;dashOffset&quot;: null, &quot;fill&quot;: true, &quot;fillColor&quot;: &quot;#d35400&quot;, &quot;fillOpacity&quot;: 0.2, &quot;fillRule&quot;: &quot;evenodd&quot;, &quot;lineCap&quot;: &quot;round&quot;, &quot;lineJoin&quot;: &quot;round&quot;, &quot;opacity&quot;: 1.0, &quot;radius&quot;: 1000, &quot;stroke&quot;: true, &quot;weight&quot;: 3}\n            ).addTo(map_bbc6350c9cbe23a844988cf0320f27e3);\n        \n    \n        var popup_977d76d0bf1d03459655e4d617233e69 = L.popup({&quot;maxWidth&quot;: &quot;100%&quot;});\n\n        \n            \n                var html_15234ffb1aecf8e231f513820c7c0e5a = $(`&lt;div id=&quot;html_15234ffb1aecf8e231f513820c7c0e5a&quot; style=&quot;width: 100.0%; height: 100.0%;&quot;&gt;CCAFS_LC-40&lt;/div&gt;`)[0];\n                popup_977d76d0bf1d03459655e4d617233e69.setContent(html_15234ffb1aecf8e231f513820c7c0e5a);\n            \n        \n\n        circle_12f7442afde2be35c5073fe1d314ebee.bindPopup(popup_977d76d0bf1d03459655e4d617233e69)\n        ;\n\n        \n    \n    \n            var marker_12747da9fbe6f585f43f5053bdb33efe = L.marker(\n                [28.562302, -80.577356],\n                {}\n            ).addTo(map_bbc6350c9cbe23a844988cf0320f27e3);\n        \n    \n            var div_icon_22edc300699ae46b2659d5244edcd3b7 = L.divIcon({&quot;className&quot;: &quot;empty&quot;, &quot;html&quot;: &quot;\\u003cdiv style=\\&quot;font-size: 12; color:#d35400;\\&quot;\\u003e\\u003cb\\u003eCCAFS_LC-40\\u003c/b\\u003e\\u003c/div\\u003e&quot;, &quot;iconAnchor&quot;: [0, 0], &quot;iconSize&quot;: [20, 20]});\n            marker_12747da9fbe6f585f43f5053bdb33efe.setIcon(div_icon_22edc300699ae46b2659d5244edcd3b7);\n        \n    \n            var circle_9f6d5196463c494873ec1af02aca4fe4 = L.circle(\n                [28.563197, -80.57682],\n                {&quot;bubblingMouseEvents&quot;: true, &quot;color&quot;: &quot;#d35400&quot;, &quot;dashArray&quot;: null, &quot;dashOffset&quot;: null, &quot;fill&quot;: true, &quot;fillColor&quot;: &quot;#d35400&quot;, &quot;fillOpacity&quot;: 0.2, &quot;fillRule&quot;: &quot;evenodd&quot;, &quot;lineCap&quot;: &quot;round&quot;, &quot;lineJoin&quot;: &quot;round&quot;, &quot;opacity&quot;: 1.0, &quot;radius&quot;: 1000, &quot;stroke&quot;: true, &quot;weight&quot;: 3}\n            ).addTo(map_bbc6350c9cbe23a844988cf0320f27e3);\n        \n    \n        var popup_eeaaca34ca672a773389241c95b54def = L.popup({&quot;maxWidth&quot;: &quot;100%&quot;});\n\n        \n            \n                var html_111326161fccc3be338dc755c21b328e = $(`&lt;div id=&quot;html_111326161fccc3be338dc755c21b328e&quot; style=&quot;width: 100.0%; height: 100.0%;&quot;&gt;CCAFS_SLC-40&lt;/div&gt;`)[0];\n                popup_eeaaca34ca672a773389241c95b54def.setContent(html_111326161fccc3be338dc755c21b328e);\n            \n        \n\n        circle_9f6d5196463c494873ec1af02aca4fe4.bindPopup(popup_eeaaca34ca672a773389241c95b54def)\n        ;\n\n        \n    \n    \n            var marker_f52164c9fc2075e75ae663fb3484c5aa = L.marker(\n                [28.563197, -80.57682],\n                {}\n            ).addTo(map_bbc6350c9cbe23a844988cf0320f27e3);\n        \n    \n            var div_icon_48478a3e727f1ba9247886ba138d73dd = L.divIcon({&quot;className&quot;: &quot;empty&quot;, &quot;html&quot;: &quot;\\u003cdiv style=\\&quot;font-size: 12; color:#d35400;\\&quot;\\u003e\\u003cb\\u003eCCAFS_SLC-40\\u003c/b\\u003e\\u003c/div\\u003e&quot;, &quot;iconAnchor&quot;: [0, 0], &quot;iconSize&quot;: [20, 20]});\n            marker_f52164c9fc2075e75ae663fb3484c5aa.setIcon(div_icon_48478a3e727f1ba9247886ba138d73dd);\n        \n    \n            var circle_a5c9b150b12139e8f965d773b6cf413d = L.circle(\n                [28.573255, -80.646895],\n                {&quot;bubblingMouseEvents&quot;: true, &quot;color&quot;: &quot;#d35400&quot;, &quot;dashArray&quot;: null, &quot;dashOffset&quot;: null, &quot;fill&quot;: true, &quot;fillColor&quot;: &quot;#d35400&quot;, &quot;fillOpacity&quot;: 0.2, &quot;fillRule&quot;: &quot;evenodd&quot;, &quot;lineCap&quot;: &quot;round&quot;, &quot;lineJoin&quot;: &quot;round&quot;, &quot;opacity&quot;: 1.0, &quot;radius&quot;: 1000, &quot;stroke&quot;: true, &quot;weight&quot;: 3}\n            ).addTo(map_bbc6350c9cbe23a844988cf0320f27e3);\n        \n    \n        var popup_4008ab2185bc1f504778672e6bfa13ff = L.popup({&quot;maxWidth&quot;: &quot;100%&quot;});\n\n        \n            \n                var html_a681a13c8307c89c9ab2c0db1320d010 = $(`&lt;div id=&quot;html_a681a13c8307c89c9ab2c0db1320d010&quot; style=&quot;width: 100.0%; height: 100.0%;&quot;&gt;KSC_LC-39A&lt;/div&gt;`)[0];\n                popup_4008ab2185bc1f504778672e6bfa13ff.setContent(html_a681a13c8307c89c9ab2c0db1320d010);\n            \n        \n\n        circle_a5c9b150b12139e8f965d773b6cf413d.bindPopup(popup_4008ab2185bc1f504778672e6bfa13ff)\n        ;\n\n        \n    \n    \n            var marker_5edd727515dcffba1fd5e1a34fc5ed45 = L.marker(\n                [28.573255, -80.646895],\n                {}\n            ).addTo(map_bbc6350c9cbe23a844988cf0320f27e3);\n        \n    \n            var div_icon_9af038dd1c79e36618e635536ad29aa0 = L.divIcon({&quot;className&quot;: &quot;empty&quot;, &quot;html&quot;: &quot;\\u003cdiv style=\\&quot;font-size: 12; color:#d35400;\\&quot;\\u003e\\u003cb\\u003eKSC_LC-39A\\u003c/b\\u003e\\u003c/div\\u003e&quot;, &quot;iconAnchor&quot;: [0, 0], &quot;iconSize&quot;: [20, 20]});\n            marker_5edd727515dcffba1fd5e1a34fc5ed45.setIcon(div_icon_9af038dd1c79e36618e635536ad29aa0);\n        \n    \n            var circle_b306cd036437d75f1db76f5378648f8e = L.circle(\n                [34.632834, -120.610745],\n                {&quot;bubblingMouseEvents&quot;: true, &quot;color&quot;: &quot;#d35400&quot;, &quot;dashArray&quot;: null, &quot;dashOffset&quot;: null, &quot;fill&quot;: true, &quot;fillColor&quot;: &quot;#d35400&quot;, &quot;fillOpacity&quot;: 0.2, &quot;fillRule&quot;: &quot;evenodd&quot;, &quot;lineCap&quot;: &quot;round&quot;, &quot;lineJoin&quot;: &quot;round&quot;, &quot;opacity&quot;: 1.0, &quot;radius&quot;: 1000, &quot;stroke&quot;: true, &quot;weight&quot;: 3}\n            ).addTo(map_bbc6350c9cbe23a844988cf0320f27e3);\n        \n    \n        var popup_7e5328e195fd7dba637a62cc475feb01 = L.popup({&quot;maxWidth&quot;: &quot;100%&quot;});\n\n        \n            \n                var html_cbd78a4f7163962511775f76e7b218bc = $(`&lt;div id=&quot;html_cbd78a4f7163962511775f76e7b218bc&quot; style=&quot;width: 100.0%; height: 100.0%;&quot;&gt;VAFB_SLC-4E&lt;/div&gt;`)[0];\n                popup_7e5328e195fd7dba637a62cc475feb01.setContent(html_cbd78a4f7163962511775f76e7b218bc);\n            \n        \n\n        circle_b306cd036437d75f1db76f5378648f8e.bindPopup(popup_7e5328e195fd7dba637a62cc475feb01)\n        ;\n\n        \n    \n    \n            var marker_5cd451b46b323241a5c5bc04b52d57f8 = L.marker(\n                [34.632834, -120.610745],\n                {}\n            ).addTo(map_bbc6350c9cbe23a844988cf0320f27e3);\n        \n    \n            var div_icon_dd0b67f8b63420f1ab1498d7c8d57e6c = L.divIcon({&quot;className&quot;: &quot;empty&quot;, &quot;html&quot;: &quot;\\u003cdiv style=\\&quot;font-size: 12; color:#d35400;\\&quot;\\u003e\\u003cb\\u003eVAFB_SLC-4E\\u003c/b\\u003e\\u003c/div\\u003e&quot;, &quot;iconAnchor&quot;: [0, 0], &quot;iconSize&quot;: [20, 20]});\n            marker_5cd451b46b323241a5c5bc04b52d57f8.setIcon(div_icon_dd0b67f8b63420f1ab1498d7c8d57e6c);\n        \n    \n            tile_layer_a77b7020faa7199b19df5d3bbfa69ba3.addTo(map_bbc6350c9cbe23a844988cf0320f27e3);\n        \n    \n            var mouse_position_f9262b5c0c51aaa720904889dcef5946 = new L.Control.MousePosition(\n                {&quot;emptyString&quot;: &quot;NaN&quot;, &quot;lngFirst&quot;: false, &quot;numDigits&quot;: 20, &quot;position&quot;: &quot;topright&quot;, &quot;prefix&quot;: &quot;Lat:&quot;, &quot;separator&quot;: &quot; Long: &quot;}\n            );\n            mouse_position_f9262b5c0c51aaa720904889dcef5946.options[&quot;latFormatter&quot;] =\n                function(num) {return L.Util.formatNum(num, 5);};;\n            mouse_position_f9262b5c0c51aaa720904889dcef5946.options[&quot;lngFormatter&quot;] =\n                function(num) {return L.Util.formatNum(num, 5);};;\n            map_bbc6350c9cbe23a844988cf0320f27e3.addControl(mouse_position_f9262b5c0c51aaa720904889dcef5946);\n        \n    \n            tile_layer_a77b7020faa7199b19df5d3bbfa69ba3.addTo(map_bbc6350c9cbe23a844988cf0320f27e3);\n        \n    \n            var marker_a777a1cd258c8b8e6e10a0bb89bdfa09 = L.marker(\n                [28.56367, -80.57163],\n                {}\n            ).addTo(map_bbc6350c9cbe23a844988cf0320f27e3);\n        \n    \n            var div_icon_319379cf1ddda94a534833156a23fbac = L.divIcon({&quot;className&quot;: &quot;empty&quot;, &quot;html&quot;: &quot;\\u003cdiv style=\\&quot;font-size: 12; color:#d35400;\\&quot;\\u003e\\u003cb\\u003e0.58 KM\\u003c/b\\u003e\\u003c/div\\u003e&quot;, &quot;iconAnchor&quot;: [0, 0], &quot;iconSize&quot;: [20, 20]});\n            marker_a777a1cd258c8b8e6e10a0bb89bdfa09.setIcon(div_icon_319379cf1ddda94a534833156a23fbac);\n        \n    \n            var poly_line_1e53b2e847e6aeb1ad24291f74897ff5 = L.polyline(\n                [[28.562302, -80.577356], [28.56406, -80.568]],\n                {&quot;bubblingMouseEvents&quot;: true, &quot;color&quot;: &quot;blue&quot;, &quot;dashArray&quot;: null, &quot;dashOffset&quot;: null, &quot;fill&quot;: false, &quot;fillColor&quot;: &quot;blue&quot;, &quot;fillOpacity&quot;: 0.2, &quot;fillRule&quot;: &quot;evenodd&quot;, &quot;lineCap&quot;: &quot;round&quot;, &quot;lineJoin&quot;: &quot;round&quot;, &quot;noClip&quot;: false, &quot;opacity&quot;: 1.0, &quot;smoothFactor&quot;: 1.0, &quot;stroke&quot;: true, &quot;weight&quot;: 1}\n            ).addTo(map_bbc6350c9cbe23a844988cf0320f27e3);\n        \n&lt;/script&gt;\n&lt;/html&gt;\" style=\"position:absolute;width:100%;height:100%;left:0;top:0;border:none !important;\" allowfullscreen webkitallowfullscreen mozallowfullscreen></iframe></div></div>"
          },
          "metadata": {}
        }
      ],
      "execution_count": 20
    },
    {
      "cell_type": "markdown",
      "source": "Your updated map with distance line should look like the following screenshot:\n",
      "metadata": {}
    },
    {
      "cell_type": "markdown",
      "source": "<center>\n    <img src=\"https://cf-courses-data.s3.us.cloud-object-storage.appdomain.cloud/IBM-DS0321EN-SkillsNetwork/labs/module_3/images/launch_site_marker_distance.png\">\n</center>\n",
      "metadata": {}
    },
    {
      "cell_type": "markdown",
      "source": "*TODO:* Similarly, you can draw a line betwee a launch site to its closest city, railway, highway, etc. You need to use `MousePosition` to find the their coordinates on the map first\n",
      "metadata": {}
    },
    {
      "cell_type": "markdown",
      "source": "A railway map symbol may look like this:\n",
      "metadata": {}
    },
    {
      "cell_type": "markdown",
      "source": "<center>\n    <img src=\"https://cf-courses-data.s3.us.cloud-object-storage.appdomain.cloud/IBM-DS0321EN-SkillsNetwork/labs/module_3/images/railway.png\">\n</center>\n",
      "metadata": {}
    },
    {
      "cell_type": "markdown",
      "source": "A highway map symbol may look like this:\n",
      "metadata": {}
    },
    {
      "cell_type": "markdown",
      "source": "<center>\n    <img src=\"https://cf-courses-data.s3.us.cloud-object-storage.appdomain.cloud/IBM-DS0321EN-SkillsNetwork/labs/module_3/images/highway.png\">\n</center>\n",
      "metadata": {}
    },
    {
      "cell_type": "markdown",
      "source": "A city map symbol may look like this:\n",
      "metadata": {}
    },
    {
      "cell_type": "markdown",
      "source": "<center>\n    <img src=\"https://cf-courses-data.s3.us.cloud-object-storage.appdomain.cloud/IBM-DS0321EN-SkillsNetwork/labs/module_3/images/city.png\">\n</center>\n",
      "metadata": {}
    },
    {
      "cell_type": "code",
      "source": "# Create a marker with distance to a closest city, railway, highway, etc.\n# Draw a line between the marker to the launch site\n",
      "metadata": {
        "trusted": true
      },
      "outputs": [],
      "execution_count": 21
    },
    {
      "cell_type": "code",
      "source": "lines = folium.PolyLine(\n    locations=[[28.562302, -80.577356], [28.38759, -80.60544]],\n    weight=1,\n    color='blue'  \n)\nlines.add_to(site_map)\n\nsite_map.add_child(lines)",
      "metadata": {
        "trusted": true
      },
      "outputs": [
        {
          "execution_count": 21,
          "output_type": "execute_result",
          "data": {
            "text/plain": "<folium.folium.Map at 0x54417d8>",
            "text/html": "<div style=\"width:100%;\"><div style=\"position:relative;width:100%;height:0;padding-bottom:60%;\"><span style=\"color:#565656\">Make this Notebook Trusted to load map: File -> Trust Notebook</span><iframe srcdoc=\"&lt;!DOCTYPE html&gt;\n&lt;html&gt;\n&lt;head&gt;\n    \n    &lt;meta http-equiv=&quot;content-type&quot; content=&quot;text/html; charset=UTF-8&quot; /&gt;\n    \n        &lt;script&gt;\n            L_NO_TOUCH = false;\n            L_DISABLE_3D = false;\n        &lt;/script&gt;\n    \n    &lt;style&gt;html, body {width: 100%;height: 100%;margin: 0;padding: 0;}&lt;/style&gt;\n    &lt;style&gt;#map {position:absolute;top:0;bottom:0;right:0;left:0;}&lt;/style&gt;\n    &lt;script src=&quot;https://cdn.jsdelivr.net/npm/leaflet@1.9.3/dist/leaflet.js&quot;&gt;&lt;/script&gt;\n    &lt;script src=&quot;https://code.jquery.com/jquery-3.7.1.min.js&quot;&gt;&lt;/script&gt;\n    &lt;script src=&quot;https://cdn.jsdelivr.net/npm/bootstrap@5.2.2/dist/js/bootstrap.bundle.min.js&quot;&gt;&lt;/script&gt;\n    &lt;script src=&quot;https://cdnjs.cloudflare.com/ajax/libs/Leaflet.awesome-markers/2.0.2/leaflet.awesome-markers.js&quot;&gt;&lt;/script&gt;\n    &lt;link rel=&quot;stylesheet&quot; href=&quot;https://cdn.jsdelivr.net/npm/leaflet@1.9.3/dist/leaflet.css&quot;/&gt;\n    &lt;link rel=&quot;stylesheet&quot; href=&quot;https://cdn.jsdelivr.net/npm/bootstrap@5.2.2/dist/css/bootstrap.min.css&quot;/&gt;\n    &lt;link rel=&quot;stylesheet&quot; href=&quot;https://netdna.bootstrapcdn.com/bootstrap/3.0.0/css/bootstrap-glyphicons.css&quot;/&gt;\n    &lt;link rel=&quot;stylesheet&quot; href=&quot;https://cdn.jsdelivr.net/npm/@fortawesome/fontawesome-free@6.2.0/css/all.min.css&quot;/&gt;\n    &lt;link rel=&quot;stylesheet&quot; href=&quot;https://cdnjs.cloudflare.com/ajax/libs/Leaflet.awesome-markers/2.0.2/leaflet.awesome-markers.css&quot;/&gt;\n    &lt;link rel=&quot;stylesheet&quot; href=&quot;https://cdn.jsdelivr.net/gh/python-visualization/folium/folium/templates/leaflet.awesome.rotate.min.css&quot;/&gt;\n    \n            &lt;meta name=&quot;viewport&quot; content=&quot;width=device-width,\n                initial-scale=1.0, maximum-scale=1.0, user-scalable=no&quot; /&gt;\n            &lt;style&gt;\n                #map_bbc6350c9cbe23a844988cf0320f27e3 {\n                    position: relative;\n                    width: 100.0%;\n                    height: 100.0%;\n                    left: 0.0%;\n                    top: 0.0%;\n                }\n                .leaflet-container { font-size: 1rem; }\n            &lt;/style&gt;\n        \n    &lt;script src=&quot;https://cdn.jsdelivr.net/gh/ardhi/Leaflet.MousePosition/src/L.Control.MousePosition.min.js&quot;&gt;&lt;/script&gt;\n    &lt;link rel=&quot;stylesheet&quot; href=&quot;https://cdn.jsdelivr.net/gh/ardhi/Leaflet.MousePosition/src/L.Control.MousePosition.min.css&quot;/&gt;\n&lt;/head&gt;\n&lt;body&gt;\n    \n    \n            &lt;div class=&quot;folium-map&quot; id=&quot;map_bbc6350c9cbe23a844988cf0320f27e3&quot; &gt;&lt;/div&gt;\n        \n&lt;/body&gt;\n&lt;script&gt;\n    \n    \n            var map_bbc6350c9cbe23a844988cf0320f27e3 = L.map(\n                &quot;map_bbc6350c9cbe23a844988cf0320f27e3&quot;,\n                {\n                    center: [29.559684888503615, -95.0830971930759],\n                    crs: L.CRS.EPSG3857,\n                    zoom: 10,\n                    zoomControl: true,\n                    preferCanvas: false,\n                }\n            );\n\n            \n\n        \n    \n            var tile_layer_a77b7020faa7199b19df5d3bbfa69ba3 = L.tileLayer(\n                &quot;https://tile.openstreetmap.org/{z}/{x}/{y}.png&quot;,\n                {&quot;attribution&quot;: &quot;\\u0026copy; \\u003ca href=\\&quot;https://www.openstreetmap.org/copyright\\&quot;\\u003eOpenStreetMap\\u003c/a\\u003e contributors&quot;, &quot;detectRetina&quot;: false, &quot;maxNativeZoom&quot;: 19, &quot;maxZoom&quot;: 19, &quot;minZoom&quot;: 0, &quot;noWrap&quot;: false, &quot;opacity&quot;: 1, &quot;subdomains&quot;: &quot;abc&quot;, &quot;tms&quot;: false}\n            );\n        \n    \n            tile_layer_a77b7020faa7199b19df5d3bbfa69ba3.addTo(map_bbc6350c9cbe23a844988cf0320f27e3);\n        \n    \n            var circle_fa21758b569786bec2baa11a226da59d = L.circle(\n                [29.559684888503615, -95.0830971930759],\n                {&quot;bubblingMouseEvents&quot;: true, &quot;color&quot;: &quot;#d35400&quot;, &quot;dashArray&quot;: null, &quot;dashOffset&quot;: null, &quot;fill&quot;: true, &quot;fillColor&quot;: &quot;#d35400&quot;, &quot;fillOpacity&quot;: 0.2, &quot;fillRule&quot;: &quot;evenodd&quot;, &quot;lineCap&quot;: &quot;round&quot;, &quot;lineJoin&quot;: &quot;round&quot;, &quot;opacity&quot;: 1.0, &quot;radius&quot;: 1000, &quot;stroke&quot;: true, &quot;weight&quot;: 3}\n            ).addTo(map_bbc6350c9cbe23a844988cf0320f27e3);\n        \n    \n        var popup_543149634dd34e9709d1ca9cf9d2c46c = L.popup({&quot;maxWidth&quot;: &quot;100%&quot;});\n\n        \n            \n                var html_14d80f3ac2cdf65063a43991afc7b553 = $(`&lt;div id=&quot;html_14d80f3ac2cdf65063a43991afc7b553&quot; style=&quot;width: 100.0%; height: 100.0%;&quot;&gt;NASA Johnson Space Center&lt;/div&gt;`)[0];\n                popup_543149634dd34e9709d1ca9cf9d2c46c.setContent(html_14d80f3ac2cdf65063a43991afc7b553);\n            \n        \n\n        circle_fa21758b569786bec2baa11a226da59d.bindPopup(popup_543149634dd34e9709d1ca9cf9d2c46c)\n        ;\n\n        \n    \n    \n            var marker_f8f74e7793f5bfcee35c90333188b2f1 = L.marker(\n                [29.559684888503615, -95.0830971930759],\n                {}\n            ).addTo(map_bbc6350c9cbe23a844988cf0320f27e3);\n        \n    \n            var div_icon_6954fb694e621ba9da0e046702e70fb0 = L.divIcon({&quot;className&quot;: &quot;empty&quot;, &quot;html&quot;: &quot;\\u003cdiv style=\\&quot;font-size: 12; color:#d35400;\\&quot;\\u003e\\u003cb\\u003eNASA JSC\\u003c/b\\u003e\\u003c/div\\u003e&quot;, &quot;iconAnchor&quot;: [0, 0], &quot;iconSize&quot;: [20, 20]});\n            marker_f8f74e7793f5bfcee35c90333188b2f1.setIcon(div_icon_6954fb694e621ba9da0e046702e70fb0);\n        \n    \n            tile_layer_a77b7020faa7199b19df5d3bbfa69ba3.addTo(map_bbc6350c9cbe23a844988cf0320f27e3);\n        \n    \n            var circle_12f7442afde2be35c5073fe1d314ebee = L.circle(\n                [28.562302, -80.577356],\n                {&quot;bubblingMouseEvents&quot;: true, &quot;color&quot;: &quot;#d35400&quot;, &quot;dashArray&quot;: null, &quot;dashOffset&quot;: null, &quot;fill&quot;: true, &quot;fillColor&quot;: &quot;#d35400&quot;, &quot;fillOpacity&quot;: 0.2, &quot;fillRule&quot;: &quot;evenodd&quot;, &quot;lineCap&quot;: &quot;round&quot;, &quot;lineJoin&quot;: &quot;round&quot;, &quot;opacity&quot;: 1.0, &quot;radius&quot;: 1000, &quot;stroke&quot;: true, &quot;weight&quot;: 3}\n            ).addTo(map_bbc6350c9cbe23a844988cf0320f27e3);\n        \n    \n        var popup_977d76d0bf1d03459655e4d617233e69 = L.popup({&quot;maxWidth&quot;: &quot;100%&quot;});\n\n        \n            \n                var html_15234ffb1aecf8e231f513820c7c0e5a = $(`&lt;div id=&quot;html_15234ffb1aecf8e231f513820c7c0e5a&quot; style=&quot;width: 100.0%; height: 100.0%;&quot;&gt;CCAFS_LC-40&lt;/div&gt;`)[0];\n                popup_977d76d0bf1d03459655e4d617233e69.setContent(html_15234ffb1aecf8e231f513820c7c0e5a);\n            \n        \n\n        circle_12f7442afde2be35c5073fe1d314ebee.bindPopup(popup_977d76d0bf1d03459655e4d617233e69)\n        ;\n\n        \n    \n    \n            var marker_12747da9fbe6f585f43f5053bdb33efe = L.marker(\n                [28.562302, -80.577356],\n                {}\n            ).addTo(map_bbc6350c9cbe23a844988cf0320f27e3);\n        \n    \n            var div_icon_22edc300699ae46b2659d5244edcd3b7 = L.divIcon({&quot;className&quot;: &quot;empty&quot;, &quot;html&quot;: &quot;\\u003cdiv style=\\&quot;font-size: 12; color:#d35400;\\&quot;\\u003e\\u003cb\\u003eCCAFS_LC-40\\u003c/b\\u003e\\u003c/div\\u003e&quot;, &quot;iconAnchor&quot;: [0, 0], &quot;iconSize&quot;: [20, 20]});\n            marker_12747da9fbe6f585f43f5053bdb33efe.setIcon(div_icon_22edc300699ae46b2659d5244edcd3b7);\n        \n    \n            var circle_9f6d5196463c494873ec1af02aca4fe4 = L.circle(\n                [28.563197, -80.57682],\n                {&quot;bubblingMouseEvents&quot;: true, &quot;color&quot;: &quot;#d35400&quot;, &quot;dashArray&quot;: null, &quot;dashOffset&quot;: null, &quot;fill&quot;: true, &quot;fillColor&quot;: &quot;#d35400&quot;, &quot;fillOpacity&quot;: 0.2, &quot;fillRule&quot;: &quot;evenodd&quot;, &quot;lineCap&quot;: &quot;round&quot;, &quot;lineJoin&quot;: &quot;round&quot;, &quot;opacity&quot;: 1.0, &quot;radius&quot;: 1000, &quot;stroke&quot;: true, &quot;weight&quot;: 3}\n            ).addTo(map_bbc6350c9cbe23a844988cf0320f27e3);\n        \n    \n        var popup_eeaaca34ca672a773389241c95b54def = L.popup({&quot;maxWidth&quot;: &quot;100%&quot;});\n\n        \n            \n                var html_111326161fccc3be338dc755c21b328e = $(`&lt;div id=&quot;html_111326161fccc3be338dc755c21b328e&quot; style=&quot;width: 100.0%; height: 100.0%;&quot;&gt;CCAFS_SLC-40&lt;/div&gt;`)[0];\n                popup_eeaaca34ca672a773389241c95b54def.setContent(html_111326161fccc3be338dc755c21b328e);\n            \n        \n\n        circle_9f6d5196463c494873ec1af02aca4fe4.bindPopup(popup_eeaaca34ca672a773389241c95b54def)\n        ;\n\n        \n    \n    \n            var marker_f52164c9fc2075e75ae663fb3484c5aa = L.marker(\n                [28.563197, -80.57682],\n                {}\n            ).addTo(map_bbc6350c9cbe23a844988cf0320f27e3);\n        \n    \n            var div_icon_48478a3e727f1ba9247886ba138d73dd = L.divIcon({&quot;className&quot;: &quot;empty&quot;, &quot;html&quot;: &quot;\\u003cdiv style=\\&quot;font-size: 12; color:#d35400;\\&quot;\\u003e\\u003cb\\u003eCCAFS_SLC-40\\u003c/b\\u003e\\u003c/div\\u003e&quot;, &quot;iconAnchor&quot;: [0, 0], &quot;iconSize&quot;: [20, 20]});\n            marker_f52164c9fc2075e75ae663fb3484c5aa.setIcon(div_icon_48478a3e727f1ba9247886ba138d73dd);\n        \n    \n            var circle_a5c9b150b12139e8f965d773b6cf413d = L.circle(\n                [28.573255, -80.646895],\n                {&quot;bubblingMouseEvents&quot;: true, &quot;color&quot;: &quot;#d35400&quot;, &quot;dashArray&quot;: null, &quot;dashOffset&quot;: null, &quot;fill&quot;: true, &quot;fillColor&quot;: &quot;#d35400&quot;, &quot;fillOpacity&quot;: 0.2, &quot;fillRule&quot;: &quot;evenodd&quot;, &quot;lineCap&quot;: &quot;round&quot;, &quot;lineJoin&quot;: &quot;round&quot;, &quot;opacity&quot;: 1.0, &quot;radius&quot;: 1000, &quot;stroke&quot;: true, &quot;weight&quot;: 3}\n            ).addTo(map_bbc6350c9cbe23a844988cf0320f27e3);\n        \n    \n        var popup_4008ab2185bc1f504778672e6bfa13ff = L.popup({&quot;maxWidth&quot;: &quot;100%&quot;});\n\n        \n            \n                var html_a681a13c8307c89c9ab2c0db1320d010 = $(`&lt;div id=&quot;html_a681a13c8307c89c9ab2c0db1320d010&quot; style=&quot;width: 100.0%; height: 100.0%;&quot;&gt;KSC_LC-39A&lt;/div&gt;`)[0];\n                popup_4008ab2185bc1f504778672e6bfa13ff.setContent(html_a681a13c8307c89c9ab2c0db1320d010);\n            \n        \n\n        circle_a5c9b150b12139e8f965d773b6cf413d.bindPopup(popup_4008ab2185bc1f504778672e6bfa13ff)\n        ;\n\n        \n    \n    \n            var marker_5edd727515dcffba1fd5e1a34fc5ed45 = L.marker(\n                [28.573255, -80.646895],\n                {}\n            ).addTo(map_bbc6350c9cbe23a844988cf0320f27e3);\n        \n    \n            var div_icon_9af038dd1c79e36618e635536ad29aa0 = L.divIcon({&quot;className&quot;: &quot;empty&quot;, &quot;html&quot;: &quot;\\u003cdiv style=\\&quot;font-size: 12; color:#d35400;\\&quot;\\u003e\\u003cb\\u003eKSC_LC-39A\\u003c/b\\u003e\\u003c/div\\u003e&quot;, &quot;iconAnchor&quot;: [0, 0], &quot;iconSize&quot;: [20, 20]});\n            marker_5edd727515dcffba1fd5e1a34fc5ed45.setIcon(div_icon_9af038dd1c79e36618e635536ad29aa0);\n        \n    \n            var circle_b306cd036437d75f1db76f5378648f8e = L.circle(\n                [34.632834, -120.610745],\n                {&quot;bubblingMouseEvents&quot;: true, &quot;color&quot;: &quot;#d35400&quot;, &quot;dashArray&quot;: null, &quot;dashOffset&quot;: null, &quot;fill&quot;: true, &quot;fillColor&quot;: &quot;#d35400&quot;, &quot;fillOpacity&quot;: 0.2, &quot;fillRule&quot;: &quot;evenodd&quot;, &quot;lineCap&quot;: &quot;round&quot;, &quot;lineJoin&quot;: &quot;round&quot;, &quot;opacity&quot;: 1.0, &quot;radius&quot;: 1000, &quot;stroke&quot;: true, &quot;weight&quot;: 3}\n            ).addTo(map_bbc6350c9cbe23a844988cf0320f27e3);\n        \n    \n        var popup_7e5328e195fd7dba637a62cc475feb01 = L.popup({&quot;maxWidth&quot;: &quot;100%&quot;});\n\n        \n            \n                var html_cbd78a4f7163962511775f76e7b218bc = $(`&lt;div id=&quot;html_cbd78a4f7163962511775f76e7b218bc&quot; style=&quot;width: 100.0%; height: 100.0%;&quot;&gt;VAFB_SLC-4E&lt;/div&gt;`)[0];\n                popup_7e5328e195fd7dba637a62cc475feb01.setContent(html_cbd78a4f7163962511775f76e7b218bc);\n            \n        \n\n        circle_b306cd036437d75f1db76f5378648f8e.bindPopup(popup_7e5328e195fd7dba637a62cc475feb01)\n        ;\n\n        \n    \n    \n            var marker_5cd451b46b323241a5c5bc04b52d57f8 = L.marker(\n                [34.632834, -120.610745],\n                {}\n            ).addTo(map_bbc6350c9cbe23a844988cf0320f27e3);\n        \n    \n            var div_icon_dd0b67f8b63420f1ab1498d7c8d57e6c = L.divIcon({&quot;className&quot;: &quot;empty&quot;, &quot;html&quot;: &quot;\\u003cdiv style=\\&quot;font-size: 12; color:#d35400;\\&quot;\\u003e\\u003cb\\u003eVAFB_SLC-4E\\u003c/b\\u003e\\u003c/div\\u003e&quot;, &quot;iconAnchor&quot;: [0, 0], &quot;iconSize&quot;: [20, 20]});\n            marker_5cd451b46b323241a5c5bc04b52d57f8.setIcon(div_icon_dd0b67f8b63420f1ab1498d7c8d57e6c);\n        \n    \n            tile_layer_a77b7020faa7199b19df5d3bbfa69ba3.addTo(map_bbc6350c9cbe23a844988cf0320f27e3);\n        \n    \n            var mouse_position_f9262b5c0c51aaa720904889dcef5946 = new L.Control.MousePosition(\n                {&quot;emptyString&quot;: &quot;NaN&quot;, &quot;lngFirst&quot;: false, &quot;numDigits&quot;: 20, &quot;position&quot;: &quot;topright&quot;, &quot;prefix&quot;: &quot;Lat:&quot;, &quot;separator&quot;: &quot; Long: &quot;}\n            );\n            mouse_position_f9262b5c0c51aaa720904889dcef5946.options[&quot;latFormatter&quot;] =\n                function(num) {return L.Util.formatNum(num, 5);};;\n            mouse_position_f9262b5c0c51aaa720904889dcef5946.options[&quot;lngFormatter&quot;] =\n                function(num) {return L.Util.formatNum(num, 5);};;\n            map_bbc6350c9cbe23a844988cf0320f27e3.addControl(mouse_position_f9262b5c0c51aaa720904889dcef5946);\n        \n    \n            tile_layer_a77b7020faa7199b19df5d3bbfa69ba3.addTo(map_bbc6350c9cbe23a844988cf0320f27e3);\n        \n    \n            var marker_a777a1cd258c8b8e6e10a0bb89bdfa09 = L.marker(\n                [28.56367, -80.57163],\n                {}\n            ).addTo(map_bbc6350c9cbe23a844988cf0320f27e3);\n        \n    \n            var div_icon_319379cf1ddda94a534833156a23fbac = L.divIcon({&quot;className&quot;: &quot;empty&quot;, &quot;html&quot;: &quot;\\u003cdiv style=\\&quot;font-size: 12; color:#d35400;\\&quot;\\u003e\\u003cb\\u003e0.58 KM\\u003c/b\\u003e\\u003c/div\\u003e&quot;, &quot;iconAnchor&quot;: [0, 0], &quot;iconSize&quot;: [20, 20]});\n            marker_a777a1cd258c8b8e6e10a0bb89bdfa09.setIcon(div_icon_319379cf1ddda94a534833156a23fbac);\n        \n    \n            var poly_line_1e53b2e847e6aeb1ad24291f74897ff5 = L.polyline(\n                [[28.562302, -80.577356], [28.56406, -80.568]],\n                {&quot;bubblingMouseEvents&quot;: true, &quot;color&quot;: &quot;blue&quot;, &quot;dashArray&quot;: null, &quot;dashOffset&quot;: null, &quot;fill&quot;: false, &quot;fillColor&quot;: &quot;blue&quot;, &quot;fillOpacity&quot;: 0.2, &quot;fillRule&quot;: &quot;evenodd&quot;, &quot;lineCap&quot;: &quot;round&quot;, &quot;lineJoin&quot;: &quot;round&quot;, &quot;noClip&quot;: false, &quot;opacity&quot;: 1.0, &quot;smoothFactor&quot;: 1.0, &quot;stroke&quot;: true, &quot;weight&quot;: 1}\n            ).addTo(map_bbc6350c9cbe23a844988cf0320f27e3);\n        \n    \n            tile_layer_a77b7020faa7199b19df5d3bbfa69ba3.addTo(map_bbc6350c9cbe23a844988cf0320f27e3);\n        \n    \n            var poly_line_d4fd8c66965353485f8aeaf60cc5d3de = L.polyline(\n                [[28.562302, -80.577356], [28.38759, -80.60544]],\n                {&quot;bubblingMouseEvents&quot;: true, &quot;color&quot;: &quot;blue&quot;, &quot;dashArray&quot;: null, &quot;dashOffset&quot;: null, &quot;fill&quot;: false, &quot;fillColor&quot;: &quot;blue&quot;, &quot;fillOpacity&quot;: 0.2, &quot;fillRule&quot;: &quot;evenodd&quot;, &quot;lineCap&quot;: &quot;round&quot;, &quot;lineJoin&quot;: &quot;round&quot;, &quot;noClip&quot;: false, &quot;opacity&quot;: 1.0, &quot;smoothFactor&quot;: 1.0, &quot;stroke&quot;: true, &quot;weight&quot;: 1}\n            ).addTo(map_bbc6350c9cbe23a844988cf0320f27e3);\n        \n&lt;/script&gt;\n&lt;/html&gt;\" style=\"position:absolute;width:100%;height:100%;left:0;top:0;border:none !important;\" allowfullscreen webkitallowfullscreen mozallowfullscreen></iframe></div></div>"
          },
          "metadata": {}
        }
      ],
      "execution_count": 22
    },
    {
      "cell_type": "code",
      "source": "lines = folium.PolyLine(\n    locations=[[28.562302, -80.577356], [28.56157, -80.57064]],\n    weight=1,\n    color='blue'  \n)\nlines.add_to(site_map)\n\nsite_map.add_child(lines)",
      "metadata": {
        "trusted": true
      },
      "outputs": [
        {
          "execution_count": 22,
          "output_type": "execute_result",
          "data": {
            "text/plain": "<folium.folium.Map at 0x54417d8>",
            "text/html": "<div style=\"width:100%;\"><div style=\"position:relative;width:100%;height:0;padding-bottom:60%;\"><span style=\"color:#565656\">Make this Notebook Trusted to load map: File -> Trust Notebook</span><iframe srcdoc=\"&lt;!DOCTYPE html&gt;\n&lt;html&gt;\n&lt;head&gt;\n    \n    &lt;meta http-equiv=&quot;content-type&quot; content=&quot;text/html; charset=UTF-8&quot; /&gt;\n    \n        &lt;script&gt;\n            L_NO_TOUCH = false;\n            L_DISABLE_3D = false;\n        &lt;/script&gt;\n    \n    &lt;style&gt;html, body {width: 100%;height: 100%;margin: 0;padding: 0;}&lt;/style&gt;\n    &lt;style&gt;#map {position:absolute;top:0;bottom:0;right:0;left:0;}&lt;/style&gt;\n    &lt;script src=&quot;https://cdn.jsdelivr.net/npm/leaflet@1.9.3/dist/leaflet.js&quot;&gt;&lt;/script&gt;\n    &lt;script src=&quot;https://code.jquery.com/jquery-3.7.1.min.js&quot;&gt;&lt;/script&gt;\n    &lt;script src=&quot;https://cdn.jsdelivr.net/npm/bootstrap@5.2.2/dist/js/bootstrap.bundle.min.js&quot;&gt;&lt;/script&gt;\n    &lt;script src=&quot;https://cdnjs.cloudflare.com/ajax/libs/Leaflet.awesome-markers/2.0.2/leaflet.awesome-markers.js&quot;&gt;&lt;/script&gt;\n    &lt;link rel=&quot;stylesheet&quot; href=&quot;https://cdn.jsdelivr.net/npm/leaflet@1.9.3/dist/leaflet.css&quot;/&gt;\n    &lt;link rel=&quot;stylesheet&quot; href=&quot;https://cdn.jsdelivr.net/npm/bootstrap@5.2.2/dist/css/bootstrap.min.css&quot;/&gt;\n    &lt;link rel=&quot;stylesheet&quot; href=&quot;https://netdna.bootstrapcdn.com/bootstrap/3.0.0/css/bootstrap-glyphicons.css&quot;/&gt;\n    &lt;link rel=&quot;stylesheet&quot; href=&quot;https://cdn.jsdelivr.net/npm/@fortawesome/fontawesome-free@6.2.0/css/all.min.css&quot;/&gt;\n    &lt;link rel=&quot;stylesheet&quot; href=&quot;https://cdnjs.cloudflare.com/ajax/libs/Leaflet.awesome-markers/2.0.2/leaflet.awesome-markers.css&quot;/&gt;\n    &lt;link rel=&quot;stylesheet&quot; href=&quot;https://cdn.jsdelivr.net/gh/python-visualization/folium/folium/templates/leaflet.awesome.rotate.min.css&quot;/&gt;\n    \n            &lt;meta name=&quot;viewport&quot; content=&quot;width=device-width,\n                initial-scale=1.0, maximum-scale=1.0, user-scalable=no&quot; /&gt;\n            &lt;style&gt;\n                #map_bbc6350c9cbe23a844988cf0320f27e3 {\n                    position: relative;\n                    width: 100.0%;\n                    height: 100.0%;\n                    left: 0.0%;\n                    top: 0.0%;\n                }\n                .leaflet-container { font-size: 1rem; }\n            &lt;/style&gt;\n        \n    &lt;script src=&quot;https://cdn.jsdelivr.net/gh/ardhi/Leaflet.MousePosition/src/L.Control.MousePosition.min.js&quot;&gt;&lt;/script&gt;\n    &lt;link rel=&quot;stylesheet&quot; href=&quot;https://cdn.jsdelivr.net/gh/ardhi/Leaflet.MousePosition/src/L.Control.MousePosition.min.css&quot;/&gt;\n&lt;/head&gt;\n&lt;body&gt;\n    \n    \n            &lt;div class=&quot;folium-map&quot; id=&quot;map_bbc6350c9cbe23a844988cf0320f27e3&quot; &gt;&lt;/div&gt;\n        \n&lt;/body&gt;\n&lt;script&gt;\n    \n    \n            var map_bbc6350c9cbe23a844988cf0320f27e3 = L.map(\n                &quot;map_bbc6350c9cbe23a844988cf0320f27e3&quot;,\n                {\n                    center: [29.559684888503615, -95.0830971930759],\n                    crs: L.CRS.EPSG3857,\n                    zoom: 10,\n                    zoomControl: true,\n                    preferCanvas: false,\n                }\n            );\n\n            \n\n        \n    \n            var tile_layer_a77b7020faa7199b19df5d3bbfa69ba3 = L.tileLayer(\n                &quot;https://tile.openstreetmap.org/{z}/{x}/{y}.png&quot;,\n                {&quot;attribution&quot;: &quot;\\u0026copy; \\u003ca href=\\&quot;https://www.openstreetmap.org/copyright\\&quot;\\u003eOpenStreetMap\\u003c/a\\u003e contributors&quot;, &quot;detectRetina&quot;: false, &quot;maxNativeZoom&quot;: 19, &quot;maxZoom&quot;: 19, &quot;minZoom&quot;: 0, &quot;noWrap&quot;: false, &quot;opacity&quot;: 1, &quot;subdomains&quot;: &quot;abc&quot;, &quot;tms&quot;: false}\n            );\n        \n    \n            tile_layer_a77b7020faa7199b19df5d3bbfa69ba3.addTo(map_bbc6350c9cbe23a844988cf0320f27e3);\n        \n    \n            var circle_fa21758b569786bec2baa11a226da59d = L.circle(\n                [29.559684888503615, -95.0830971930759],\n                {&quot;bubblingMouseEvents&quot;: true, &quot;color&quot;: &quot;#d35400&quot;, &quot;dashArray&quot;: null, &quot;dashOffset&quot;: null, &quot;fill&quot;: true, &quot;fillColor&quot;: &quot;#d35400&quot;, &quot;fillOpacity&quot;: 0.2, &quot;fillRule&quot;: &quot;evenodd&quot;, &quot;lineCap&quot;: &quot;round&quot;, &quot;lineJoin&quot;: &quot;round&quot;, &quot;opacity&quot;: 1.0, &quot;radius&quot;: 1000, &quot;stroke&quot;: true, &quot;weight&quot;: 3}\n            ).addTo(map_bbc6350c9cbe23a844988cf0320f27e3);\n        \n    \n        var popup_543149634dd34e9709d1ca9cf9d2c46c = L.popup({&quot;maxWidth&quot;: &quot;100%&quot;});\n\n        \n            \n                var html_14d80f3ac2cdf65063a43991afc7b553 = $(`&lt;div id=&quot;html_14d80f3ac2cdf65063a43991afc7b553&quot; style=&quot;width: 100.0%; height: 100.0%;&quot;&gt;NASA Johnson Space Center&lt;/div&gt;`)[0];\n                popup_543149634dd34e9709d1ca9cf9d2c46c.setContent(html_14d80f3ac2cdf65063a43991afc7b553);\n            \n        \n\n        circle_fa21758b569786bec2baa11a226da59d.bindPopup(popup_543149634dd34e9709d1ca9cf9d2c46c)\n        ;\n\n        \n    \n    \n            var marker_f8f74e7793f5bfcee35c90333188b2f1 = L.marker(\n                [29.559684888503615, -95.0830971930759],\n                {}\n            ).addTo(map_bbc6350c9cbe23a844988cf0320f27e3);\n        \n    \n            var div_icon_6954fb694e621ba9da0e046702e70fb0 = L.divIcon({&quot;className&quot;: &quot;empty&quot;, &quot;html&quot;: &quot;\\u003cdiv style=\\&quot;font-size: 12; color:#d35400;\\&quot;\\u003e\\u003cb\\u003eNASA JSC\\u003c/b\\u003e\\u003c/div\\u003e&quot;, &quot;iconAnchor&quot;: [0, 0], &quot;iconSize&quot;: [20, 20]});\n            marker_f8f74e7793f5bfcee35c90333188b2f1.setIcon(div_icon_6954fb694e621ba9da0e046702e70fb0);\n        \n    \n            tile_layer_a77b7020faa7199b19df5d3bbfa69ba3.addTo(map_bbc6350c9cbe23a844988cf0320f27e3);\n        \n    \n            var circle_12f7442afde2be35c5073fe1d314ebee = L.circle(\n                [28.562302, -80.577356],\n                {&quot;bubblingMouseEvents&quot;: true, &quot;color&quot;: &quot;#d35400&quot;, &quot;dashArray&quot;: null, &quot;dashOffset&quot;: null, &quot;fill&quot;: true, &quot;fillColor&quot;: &quot;#d35400&quot;, &quot;fillOpacity&quot;: 0.2, &quot;fillRule&quot;: &quot;evenodd&quot;, &quot;lineCap&quot;: &quot;round&quot;, &quot;lineJoin&quot;: &quot;round&quot;, &quot;opacity&quot;: 1.0, &quot;radius&quot;: 1000, &quot;stroke&quot;: true, &quot;weight&quot;: 3}\n            ).addTo(map_bbc6350c9cbe23a844988cf0320f27e3);\n        \n    \n        var popup_977d76d0bf1d03459655e4d617233e69 = L.popup({&quot;maxWidth&quot;: &quot;100%&quot;});\n\n        \n            \n                var html_15234ffb1aecf8e231f513820c7c0e5a = $(`&lt;div id=&quot;html_15234ffb1aecf8e231f513820c7c0e5a&quot; style=&quot;width: 100.0%; height: 100.0%;&quot;&gt;CCAFS_LC-40&lt;/div&gt;`)[0];\n                popup_977d76d0bf1d03459655e4d617233e69.setContent(html_15234ffb1aecf8e231f513820c7c0e5a);\n            \n        \n\n        circle_12f7442afde2be35c5073fe1d314ebee.bindPopup(popup_977d76d0bf1d03459655e4d617233e69)\n        ;\n\n        \n    \n    \n            var marker_12747da9fbe6f585f43f5053bdb33efe = L.marker(\n                [28.562302, -80.577356],\n                {}\n            ).addTo(map_bbc6350c9cbe23a844988cf0320f27e3);\n        \n    \n            var div_icon_22edc300699ae46b2659d5244edcd3b7 = L.divIcon({&quot;className&quot;: &quot;empty&quot;, &quot;html&quot;: &quot;\\u003cdiv style=\\&quot;font-size: 12; color:#d35400;\\&quot;\\u003e\\u003cb\\u003eCCAFS_LC-40\\u003c/b\\u003e\\u003c/div\\u003e&quot;, &quot;iconAnchor&quot;: [0, 0], &quot;iconSize&quot;: [20, 20]});\n            marker_12747da9fbe6f585f43f5053bdb33efe.setIcon(div_icon_22edc300699ae46b2659d5244edcd3b7);\n        \n    \n            var circle_9f6d5196463c494873ec1af02aca4fe4 = L.circle(\n                [28.563197, -80.57682],\n                {&quot;bubblingMouseEvents&quot;: true, &quot;color&quot;: &quot;#d35400&quot;, &quot;dashArray&quot;: null, &quot;dashOffset&quot;: null, &quot;fill&quot;: true, &quot;fillColor&quot;: &quot;#d35400&quot;, &quot;fillOpacity&quot;: 0.2, &quot;fillRule&quot;: &quot;evenodd&quot;, &quot;lineCap&quot;: &quot;round&quot;, &quot;lineJoin&quot;: &quot;round&quot;, &quot;opacity&quot;: 1.0, &quot;radius&quot;: 1000, &quot;stroke&quot;: true, &quot;weight&quot;: 3}\n            ).addTo(map_bbc6350c9cbe23a844988cf0320f27e3);\n        \n    \n        var popup_eeaaca34ca672a773389241c95b54def = L.popup({&quot;maxWidth&quot;: &quot;100%&quot;});\n\n        \n            \n                var html_111326161fccc3be338dc755c21b328e = $(`&lt;div id=&quot;html_111326161fccc3be338dc755c21b328e&quot; style=&quot;width: 100.0%; height: 100.0%;&quot;&gt;CCAFS_SLC-40&lt;/div&gt;`)[0];\n                popup_eeaaca34ca672a773389241c95b54def.setContent(html_111326161fccc3be338dc755c21b328e);\n            \n        \n\n        circle_9f6d5196463c494873ec1af02aca4fe4.bindPopup(popup_eeaaca34ca672a773389241c95b54def)\n        ;\n\n        \n    \n    \n            var marker_f52164c9fc2075e75ae663fb3484c5aa = L.marker(\n                [28.563197, -80.57682],\n                {}\n            ).addTo(map_bbc6350c9cbe23a844988cf0320f27e3);\n        \n    \n            var div_icon_48478a3e727f1ba9247886ba138d73dd = L.divIcon({&quot;className&quot;: &quot;empty&quot;, &quot;html&quot;: &quot;\\u003cdiv style=\\&quot;font-size: 12; color:#d35400;\\&quot;\\u003e\\u003cb\\u003eCCAFS_SLC-40\\u003c/b\\u003e\\u003c/div\\u003e&quot;, &quot;iconAnchor&quot;: [0, 0], &quot;iconSize&quot;: [20, 20]});\n            marker_f52164c9fc2075e75ae663fb3484c5aa.setIcon(div_icon_48478a3e727f1ba9247886ba138d73dd);\n        \n    \n            var circle_a5c9b150b12139e8f965d773b6cf413d = L.circle(\n                [28.573255, -80.646895],\n                {&quot;bubblingMouseEvents&quot;: true, &quot;color&quot;: &quot;#d35400&quot;, &quot;dashArray&quot;: null, &quot;dashOffset&quot;: null, &quot;fill&quot;: true, &quot;fillColor&quot;: &quot;#d35400&quot;, &quot;fillOpacity&quot;: 0.2, &quot;fillRule&quot;: &quot;evenodd&quot;, &quot;lineCap&quot;: &quot;round&quot;, &quot;lineJoin&quot;: &quot;round&quot;, &quot;opacity&quot;: 1.0, &quot;radius&quot;: 1000, &quot;stroke&quot;: true, &quot;weight&quot;: 3}\n            ).addTo(map_bbc6350c9cbe23a844988cf0320f27e3);\n        \n    \n        var popup_4008ab2185bc1f504778672e6bfa13ff = L.popup({&quot;maxWidth&quot;: &quot;100%&quot;});\n\n        \n            \n                var html_a681a13c8307c89c9ab2c0db1320d010 = $(`&lt;div id=&quot;html_a681a13c8307c89c9ab2c0db1320d010&quot; style=&quot;width: 100.0%; height: 100.0%;&quot;&gt;KSC_LC-39A&lt;/div&gt;`)[0];\n                popup_4008ab2185bc1f504778672e6bfa13ff.setContent(html_a681a13c8307c89c9ab2c0db1320d010);\n            \n        \n\n        circle_a5c9b150b12139e8f965d773b6cf413d.bindPopup(popup_4008ab2185bc1f504778672e6bfa13ff)\n        ;\n\n        \n    \n    \n            var marker_5edd727515dcffba1fd5e1a34fc5ed45 = L.marker(\n                [28.573255, -80.646895],\n                {}\n            ).addTo(map_bbc6350c9cbe23a844988cf0320f27e3);\n        \n    \n            var div_icon_9af038dd1c79e36618e635536ad29aa0 = L.divIcon({&quot;className&quot;: &quot;empty&quot;, &quot;html&quot;: &quot;\\u003cdiv style=\\&quot;font-size: 12; color:#d35400;\\&quot;\\u003e\\u003cb\\u003eKSC_LC-39A\\u003c/b\\u003e\\u003c/div\\u003e&quot;, &quot;iconAnchor&quot;: [0, 0], &quot;iconSize&quot;: [20, 20]});\n            marker_5edd727515dcffba1fd5e1a34fc5ed45.setIcon(div_icon_9af038dd1c79e36618e635536ad29aa0);\n        \n    \n            var circle_b306cd036437d75f1db76f5378648f8e = L.circle(\n                [34.632834, -120.610745],\n                {&quot;bubblingMouseEvents&quot;: true, &quot;color&quot;: &quot;#d35400&quot;, &quot;dashArray&quot;: null, &quot;dashOffset&quot;: null, &quot;fill&quot;: true, &quot;fillColor&quot;: &quot;#d35400&quot;, &quot;fillOpacity&quot;: 0.2, &quot;fillRule&quot;: &quot;evenodd&quot;, &quot;lineCap&quot;: &quot;round&quot;, &quot;lineJoin&quot;: &quot;round&quot;, &quot;opacity&quot;: 1.0, &quot;radius&quot;: 1000, &quot;stroke&quot;: true, &quot;weight&quot;: 3}\n            ).addTo(map_bbc6350c9cbe23a844988cf0320f27e3);\n        \n    \n        var popup_7e5328e195fd7dba637a62cc475feb01 = L.popup({&quot;maxWidth&quot;: &quot;100%&quot;});\n\n        \n            \n                var html_cbd78a4f7163962511775f76e7b218bc = $(`&lt;div id=&quot;html_cbd78a4f7163962511775f76e7b218bc&quot; style=&quot;width: 100.0%; height: 100.0%;&quot;&gt;VAFB_SLC-4E&lt;/div&gt;`)[0];\n                popup_7e5328e195fd7dba637a62cc475feb01.setContent(html_cbd78a4f7163962511775f76e7b218bc);\n            \n        \n\n        circle_b306cd036437d75f1db76f5378648f8e.bindPopup(popup_7e5328e195fd7dba637a62cc475feb01)\n        ;\n\n        \n    \n    \n            var marker_5cd451b46b323241a5c5bc04b52d57f8 = L.marker(\n                [34.632834, -120.610745],\n                {}\n            ).addTo(map_bbc6350c9cbe23a844988cf0320f27e3);\n        \n    \n            var div_icon_dd0b67f8b63420f1ab1498d7c8d57e6c = L.divIcon({&quot;className&quot;: &quot;empty&quot;, &quot;html&quot;: &quot;\\u003cdiv style=\\&quot;font-size: 12; color:#d35400;\\&quot;\\u003e\\u003cb\\u003eVAFB_SLC-4E\\u003c/b\\u003e\\u003c/div\\u003e&quot;, &quot;iconAnchor&quot;: [0, 0], &quot;iconSize&quot;: [20, 20]});\n            marker_5cd451b46b323241a5c5bc04b52d57f8.setIcon(div_icon_dd0b67f8b63420f1ab1498d7c8d57e6c);\n        \n    \n            tile_layer_a77b7020faa7199b19df5d3bbfa69ba3.addTo(map_bbc6350c9cbe23a844988cf0320f27e3);\n        \n    \n            var mouse_position_f9262b5c0c51aaa720904889dcef5946 = new L.Control.MousePosition(\n                {&quot;emptyString&quot;: &quot;NaN&quot;, &quot;lngFirst&quot;: false, &quot;numDigits&quot;: 20, &quot;position&quot;: &quot;topright&quot;, &quot;prefix&quot;: &quot;Lat:&quot;, &quot;separator&quot;: &quot; Long: &quot;}\n            );\n            mouse_position_f9262b5c0c51aaa720904889dcef5946.options[&quot;latFormatter&quot;] =\n                function(num) {return L.Util.formatNum(num, 5);};;\n            mouse_position_f9262b5c0c51aaa720904889dcef5946.options[&quot;lngFormatter&quot;] =\n                function(num) {return L.Util.formatNum(num, 5);};;\n            map_bbc6350c9cbe23a844988cf0320f27e3.addControl(mouse_position_f9262b5c0c51aaa720904889dcef5946);\n        \n    \n            tile_layer_a77b7020faa7199b19df5d3bbfa69ba3.addTo(map_bbc6350c9cbe23a844988cf0320f27e3);\n        \n    \n            var marker_a777a1cd258c8b8e6e10a0bb89bdfa09 = L.marker(\n                [28.56367, -80.57163],\n                {}\n            ).addTo(map_bbc6350c9cbe23a844988cf0320f27e3);\n        \n    \n            var div_icon_319379cf1ddda94a534833156a23fbac = L.divIcon({&quot;className&quot;: &quot;empty&quot;, &quot;html&quot;: &quot;\\u003cdiv style=\\&quot;font-size: 12; color:#d35400;\\&quot;\\u003e\\u003cb\\u003e0.58 KM\\u003c/b\\u003e\\u003c/div\\u003e&quot;, &quot;iconAnchor&quot;: [0, 0], &quot;iconSize&quot;: [20, 20]});\n            marker_a777a1cd258c8b8e6e10a0bb89bdfa09.setIcon(div_icon_319379cf1ddda94a534833156a23fbac);\n        \n    \n            var poly_line_1e53b2e847e6aeb1ad24291f74897ff5 = L.polyline(\n                [[28.562302, -80.577356], [28.56406, -80.568]],\n                {&quot;bubblingMouseEvents&quot;: true, &quot;color&quot;: &quot;blue&quot;, &quot;dashArray&quot;: null, &quot;dashOffset&quot;: null, &quot;fill&quot;: false, &quot;fillColor&quot;: &quot;blue&quot;, &quot;fillOpacity&quot;: 0.2, &quot;fillRule&quot;: &quot;evenodd&quot;, &quot;lineCap&quot;: &quot;round&quot;, &quot;lineJoin&quot;: &quot;round&quot;, &quot;noClip&quot;: false, &quot;opacity&quot;: 1.0, &quot;smoothFactor&quot;: 1.0, &quot;stroke&quot;: true, &quot;weight&quot;: 1}\n            ).addTo(map_bbc6350c9cbe23a844988cf0320f27e3);\n        \n    \n            tile_layer_a77b7020faa7199b19df5d3bbfa69ba3.addTo(map_bbc6350c9cbe23a844988cf0320f27e3);\n        \n    \n            var poly_line_d4fd8c66965353485f8aeaf60cc5d3de = L.polyline(\n                [[28.562302, -80.577356], [28.38759, -80.60544]],\n                {&quot;bubblingMouseEvents&quot;: true, &quot;color&quot;: &quot;blue&quot;, &quot;dashArray&quot;: null, &quot;dashOffset&quot;: null, &quot;fill&quot;: false, &quot;fillColor&quot;: &quot;blue&quot;, &quot;fillOpacity&quot;: 0.2, &quot;fillRule&quot;: &quot;evenodd&quot;, &quot;lineCap&quot;: &quot;round&quot;, &quot;lineJoin&quot;: &quot;round&quot;, &quot;noClip&quot;: false, &quot;opacity&quot;: 1.0, &quot;smoothFactor&quot;: 1.0, &quot;stroke&quot;: true, &quot;weight&quot;: 1}\n            ).addTo(map_bbc6350c9cbe23a844988cf0320f27e3);\n        \n    \n            tile_layer_a77b7020faa7199b19df5d3bbfa69ba3.addTo(map_bbc6350c9cbe23a844988cf0320f27e3);\n        \n    \n            var poly_line_fdc2ea8fc7d72b5c0b7fb69995a8d27f = L.polyline(\n                [[28.562302, -80.577356], [28.56157, -80.57064]],\n                {&quot;bubblingMouseEvents&quot;: true, &quot;color&quot;: &quot;blue&quot;, &quot;dashArray&quot;: null, &quot;dashOffset&quot;: null, &quot;fill&quot;: false, &quot;fillColor&quot;: &quot;blue&quot;, &quot;fillOpacity&quot;: 0.2, &quot;fillRule&quot;: &quot;evenodd&quot;, &quot;lineCap&quot;: &quot;round&quot;, &quot;lineJoin&quot;: &quot;round&quot;, &quot;noClip&quot;: false, &quot;opacity&quot;: 1.0, &quot;smoothFactor&quot;: 1.0, &quot;stroke&quot;: true, &quot;weight&quot;: 1}\n            ).addTo(map_bbc6350c9cbe23a844988cf0320f27e3);\n        \n&lt;/script&gt;\n&lt;/html&gt;\" style=\"position:absolute;width:100%;height:100%;left:0;top:0;border:none !important;\" allowfullscreen webkitallowfullscreen mozallowfullscreen></iframe></div></div>"
          },
          "metadata": {}
        }
      ],
      "execution_count": 23
    },
    {
      "cell_type": "code",
      "source": "lines = folium.PolyLine(\n    locations=[[28.562302, -80.577356], [28.57153, -80.58527]],\n    weight=1,\n    color='blue'  \n)\nlines.add_to(site_map)\n\nsite_map.add_child(lines)",
      "metadata": {
        "trusted": true
      },
      "outputs": [
        {
          "execution_count": 23,
          "output_type": "execute_result",
          "data": {
            "text/plain": "<folium.folium.Map at 0x54417d8>",
            "text/html": "<div style=\"width:100%;\"><div style=\"position:relative;width:100%;height:0;padding-bottom:60%;\"><span style=\"color:#565656\">Make this Notebook Trusted to load map: File -> Trust Notebook</span><iframe srcdoc=\"&lt;!DOCTYPE html&gt;\n&lt;html&gt;\n&lt;head&gt;\n    \n    &lt;meta http-equiv=&quot;content-type&quot; content=&quot;text/html; charset=UTF-8&quot; /&gt;\n    \n        &lt;script&gt;\n            L_NO_TOUCH = false;\n            L_DISABLE_3D = false;\n        &lt;/script&gt;\n    \n    &lt;style&gt;html, body {width: 100%;height: 100%;margin: 0;padding: 0;}&lt;/style&gt;\n    &lt;style&gt;#map {position:absolute;top:0;bottom:0;right:0;left:0;}&lt;/style&gt;\n    &lt;script src=&quot;https://cdn.jsdelivr.net/npm/leaflet@1.9.3/dist/leaflet.js&quot;&gt;&lt;/script&gt;\n    &lt;script src=&quot;https://code.jquery.com/jquery-3.7.1.min.js&quot;&gt;&lt;/script&gt;\n    &lt;script src=&quot;https://cdn.jsdelivr.net/npm/bootstrap@5.2.2/dist/js/bootstrap.bundle.min.js&quot;&gt;&lt;/script&gt;\n    &lt;script src=&quot;https://cdnjs.cloudflare.com/ajax/libs/Leaflet.awesome-markers/2.0.2/leaflet.awesome-markers.js&quot;&gt;&lt;/script&gt;\n    &lt;link rel=&quot;stylesheet&quot; href=&quot;https://cdn.jsdelivr.net/npm/leaflet@1.9.3/dist/leaflet.css&quot;/&gt;\n    &lt;link rel=&quot;stylesheet&quot; href=&quot;https://cdn.jsdelivr.net/npm/bootstrap@5.2.2/dist/css/bootstrap.min.css&quot;/&gt;\n    &lt;link rel=&quot;stylesheet&quot; href=&quot;https://netdna.bootstrapcdn.com/bootstrap/3.0.0/css/bootstrap-glyphicons.css&quot;/&gt;\n    &lt;link rel=&quot;stylesheet&quot; href=&quot;https://cdn.jsdelivr.net/npm/@fortawesome/fontawesome-free@6.2.0/css/all.min.css&quot;/&gt;\n    &lt;link rel=&quot;stylesheet&quot; href=&quot;https://cdnjs.cloudflare.com/ajax/libs/Leaflet.awesome-markers/2.0.2/leaflet.awesome-markers.css&quot;/&gt;\n    &lt;link rel=&quot;stylesheet&quot; href=&quot;https://cdn.jsdelivr.net/gh/python-visualization/folium/folium/templates/leaflet.awesome.rotate.min.css&quot;/&gt;\n    \n            &lt;meta name=&quot;viewport&quot; content=&quot;width=device-width,\n                initial-scale=1.0, maximum-scale=1.0, user-scalable=no&quot; /&gt;\n            &lt;style&gt;\n                #map_bbc6350c9cbe23a844988cf0320f27e3 {\n                    position: relative;\n                    width: 100.0%;\n                    height: 100.0%;\n                    left: 0.0%;\n                    top: 0.0%;\n                }\n                .leaflet-container { font-size: 1rem; }\n            &lt;/style&gt;\n        \n    &lt;script src=&quot;https://cdn.jsdelivr.net/gh/ardhi/Leaflet.MousePosition/src/L.Control.MousePosition.min.js&quot;&gt;&lt;/script&gt;\n    &lt;link rel=&quot;stylesheet&quot; href=&quot;https://cdn.jsdelivr.net/gh/ardhi/Leaflet.MousePosition/src/L.Control.MousePosition.min.css&quot;/&gt;\n&lt;/head&gt;\n&lt;body&gt;\n    \n    \n            &lt;div class=&quot;folium-map&quot; id=&quot;map_bbc6350c9cbe23a844988cf0320f27e3&quot; &gt;&lt;/div&gt;\n        \n&lt;/body&gt;\n&lt;script&gt;\n    \n    \n            var map_bbc6350c9cbe23a844988cf0320f27e3 = L.map(\n                &quot;map_bbc6350c9cbe23a844988cf0320f27e3&quot;,\n                {\n                    center: [29.559684888503615, -95.0830971930759],\n                    crs: L.CRS.EPSG3857,\n                    zoom: 10,\n                    zoomControl: true,\n                    preferCanvas: false,\n                }\n            );\n\n            \n\n        \n    \n            var tile_layer_a77b7020faa7199b19df5d3bbfa69ba3 = L.tileLayer(\n                &quot;https://tile.openstreetmap.org/{z}/{x}/{y}.png&quot;,\n                {&quot;attribution&quot;: &quot;\\u0026copy; \\u003ca href=\\&quot;https://www.openstreetmap.org/copyright\\&quot;\\u003eOpenStreetMap\\u003c/a\\u003e contributors&quot;, &quot;detectRetina&quot;: false, &quot;maxNativeZoom&quot;: 19, &quot;maxZoom&quot;: 19, &quot;minZoom&quot;: 0, &quot;noWrap&quot;: false, &quot;opacity&quot;: 1, &quot;subdomains&quot;: &quot;abc&quot;, &quot;tms&quot;: false}\n            );\n        \n    \n            tile_layer_a77b7020faa7199b19df5d3bbfa69ba3.addTo(map_bbc6350c9cbe23a844988cf0320f27e3);\n        \n    \n            var circle_fa21758b569786bec2baa11a226da59d = L.circle(\n                [29.559684888503615, -95.0830971930759],\n                {&quot;bubblingMouseEvents&quot;: true, &quot;color&quot;: &quot;#d35400&quot;, &quot;dashArray&quot;: null, &quot;dashOffset&quot;: null, &quot;fill&quot;: true, &quot;fillColor&quot;: &quot;#d35400&quot;, &quot;fillOpacity&quot;: 0.2, &quot;fillRule&quot;: &quot;evenodd&quot;, &quot;lineCap&quot;: &quot;round&quot;, &quot;lineJoin&quot;: &quot;round&quot;, &quot;opacity&quot;: 1.0, &quot;radius&quot;: 1000, &quot;stroke&quot;: true, &quot;weight&quot;: 3}\n            ).addTo(map_bbc6350c9cbe23a844988cf0320f27e3);\n        \n    \n        var popup_543149634dd34e9709d1ca9cf9d2c46c = L.popup({&quot;maxWidth&quot;: &quot;100%&quot;});\n\n        \n            \n                var html_14d80f3ac2cdf65063a43991afc7b553 = $(`&lt;div id=&quot;html_14d80f3ac2cdf65063a43991afc7b553&quot; style=&quot;width: 100.0%; height: 100.0%;&quot;&gt;NASA Johnson Space Center&lt;/div&gt;`)[0];\n                popup_543149634dd34e9709d1ca9cf9d2c46c.setContent(html_14d80f3ac2cdf65063a43991afc7b553);\n            \n        \n\n        circle_fa21758b569786bec2baa11a226da59d.bindPopup(popup_543149634dd34e9709d1ca9cf9d2c46c)\n        ;\n\n        \n    \n    \n            var marker_f8f74e7793f5bfcee35c90333188b2f1 = L.marker(\n                [29.559684888503615, -95.0830971930759],\n                {}\n            ).addTo(map_bbc6350c9cbe23a844988cf0320f27e3);\n        \n    \n            var div_icon_6954fb694e621ba9da0e046702e70fb0 = L.divIcon({&quot;className&quot;: &quot;empty&quot;, &quot;html&quot;: &quot;\\u003cdiv style=\\&quot;font-size: 12; color:#d35400;\\&quot;\\u003e\\u003cb\\u003eNASA JSC\\u003c/b\\u003e\\u003c/div\\u003e&quot;, &quot;iconAnchor&quot;: [0, 0], &quot;iconSize&quot;: [20, 20]});\n            marker_f8f74e7793f5bfcee35c90333188b2f1.setIcon(div_icon_6954fb694e621ba9da0e046702e70fb0);\n        \n    \n            tile_layer_a77b7020faa7199b19df5d3bbfa69ba3.addTo(map_bbc6350c9cbe23a844988cf0320f27e3);\n        \n    \n            var circle_12f7442afde2be35c5073fe1d314ebee = L.circle(\n                [28.562302, -80.577356],\n                {&quot;bubblingMouseEvents&quot;: true, &quot;color&quot;: &quot;#d35400&quot;, &quot;dashArray&quot;: null, &quot;dashOffset&quot;: null, &quot;fill&quot;: true, &quot;fillColor&quot;: &quot;#d35400&quot;, &quot;fillOpacity&quot;: 0.2, &quot;fillRule&quot;: &quot;evenodd&quot;, &quot;lineCap&quot;: &quot;round&quot;, &quot;lineJoin&quot;: &quot;round&quot;, &quot;opacity&quot;: 1.0, &quot;radius&quot;: 1000, &quot;stroke&quot;: true, &quot;weight&quot;: 3}\n            ).addTo(map_bbc6350c9cbe23a844988cf0320f27e3);\n        \n    \n        var popup_977d76d0bf1d03459655e4d617233e69 = L.popup({&quot;maxWidth&quot;: &quot;100%&quot;});\n\n        \n            \n                var html_15234ffb1aecf8e231f513820c7c0e5a = $(`&lt;div id=&quot;html_15234ffb1aecf8e231f513820c7c0e5a&quot; style=&quot;width: 100.0%; height: 100.0%;&quot;&gt;CCAFS_LC-40&lt;/div&gt;`)[0];\n                popup_977d76d0bf1d03459655e4d617233e69.setContent(html_15234ffb1aecf8e231f513820c7c0e5a);\n            \n        \n\n        circle_12f7442afde2be35c5073fe1d314ebee.bindPopup(popup_977d76d0bf1d03459655e4d617233e69)\n        ;\n\n        \n    \n    \n            var marker_12747da9fbe6f585f43f5053bdb33efe = L.marker(\n                [28.562302, -80.577356],\n                {}\n            ).addTo(map_bbc6350c9cbe23a844988cf0320f27e3);\n        \n    \n            var div_icon_22edc300699ae46b2659d5244edcd3b7 = L.divIcon({&quot;className&quot;: &quot;empty&quot;, &quot;html&quot;: &quot;\\u003cdiv style=\\&quot;font-size: 12; color:#d35400;\\&quot;\\u003e\\u003cb\\u003eCCAFS_LC-40\\u003c/b\\u003e\\u003c/div\\u003e&quot;, &quot;iconAnchor&quot;: [0, 0], &quot;iconSize&quot;: [20, 20]});\n            marker_12747da9fbe6f585f43f5053bdb33efe.setIcon(div_icon_22edc300699ae46b2659d5244edcd3b7);\n        \n    \n            var circle_9f6d5196463c494873ec1af02aca4fe4 = L.circle(\n                [28.563197, -80.57682],\n                {&quot;bubblingMouseEvents&quot;: true, &quot;color&quot;: &quot;#d35400&quot;, &quot;dashArray&quot;: null, &quot;dashOffset&quot;: null, &quot;fill&quot;: true, &quot;fillColor&quot;: &quot;#d35400&quot;, &quot;fillOpacity&quot;: 0.2, &quot;fillRule&quot;: &quot;evenodd&quot;, &quot;lineCap&quot;: &quot;round&quot;, &quot;lineJoin&quot;: &quot;round&quot;, &quot;opacity&quot;: 1.0, &quot;radius&quot;: 1000, &quot;stroke&quot;: true, &quot;weight&quot;: 3}\n            ).addTo(map_bbc6350c9cbe23a844988cf0320f27e3);\n        \n    \n        var popup_eeaaca34ca672a773389241c95b54def = L.popup({&quot;maxWidth&quot;: &quot;100%&quot;});\n\n        \n            \n                var html_111326161fccc3be338dc755c21b328e = $(`&lt;div id=&quot;html_111326161fccc3be338dc755c21b328e&quot; style=&quot;width: 100.0%; height: 100.0%;&quot;&gt;CCAFS_SLC-40&lt;/div&gt;`)[0];\n                popup_eeaaca34ca672a773389241c95b54def.setContent(html_111326161fccc3be338dc755c21b328e);\n            \n        \n\n        circle_9f6d5196463c494873ec1af02aca4fe4.bindPopup(popup_eeaaca34ca672a773389241c95b54def)\n        ;\n\n        \n    \n    \n            var marker_f52164c9fc2075e75ae663fb3484c5aa = L.marker(\n                [28.563197, -80.57682],\n                {}\n            ).addTo(map_bbc6350c9cbe23a844988cf0320f27e3);\n        \n    \n            var div_icon_48478a3e727f1ba9247886ba138d73dd = L.divIcon({&quot;className&quot;: &quot;empty&quot;, &quot;html&quot;: &quot;\\u003cdiv style=\\&quot;font-size: 12; color:#d35400;\\&quot;\\u003e\\u003cb\\u003eCCAFS_SLC-40\\u003c/b\\u003e\\u003c/div\\u003e&quot;, &quot;iconAnchor&quot;: [0, 0], &quot;iconSize&quot;: [20, 20]});\n            marker_f52164c9fc2075e75ae663fb3484c5aa.setIcon(div_icon_48478a3e727f1ba9247886ba138d73dd);\n        \n    \n            var circle_a5c9b150b12139e8f965d773b6cf413d = L.circle(\n                [28.573255, -80.646895],\n                {&quot;bubblingMouseEvents&quot;: true, &quot;color&quot;: &quot;#d35400&quot;, &quot;dashArray&quot;: null, &quot;dashOffset&quot;: null, &quot;fill&quot;: true, &quot;fillColor&quot;: &quot;#d35400&quot;, &quot;fillOpacity&quot;: 0.2, &quot;fillRule&quot;: &quot;evenodd&quot;, &quot;lineCap&quot;: &quot;round&quot;, &quot;lineJoin&quot;: &quot;round&quot;, &quot;opacity&quot;: 1.0, &quot;radius&quot;: 1000, &quot;stroke&quot;: true, &quot;weight&quot;: 3}\n            ).addTo(map_bbc6350c9cbe23a844988cf0320f27e3);\n        \n    \n        var popup_4008ab2185bc1f504778672e6bfa13ff = L.popup({&quot;maxWidth&quot;: &quot;100%&quot;});\n\n        \n            \n                var html_a681a13c8307c89c9ab2c0db1320d010 = $(`&lt;div id=&quot;html_a681a13c8307c89c9ab2c0db1320d010&quot; style=&quot;width: 100.0%; height: 100.0%;&quot;&gt;KSC_LC-39A&lt;/div&gt;`)[0];\n                popup_4008ab2185bc1f504778672e6bfa13ff.setContent(html_a681a13c8307c89c9ab2c0db1320d010);\n            \n        \n\n        circle_a5c9b150b12139e8f965d773b6cf413d.bindPopup(popup_4008ab2185bc1f504778672e6bfa13ff)\n        ;\n\n        \n    \n    \n            var marker_5edd727515dcffba1fd5e1a34fc5ed45 = L.marker(\n                [28.573255, -80.646895],\n                {}\n            ).addTo(map_bbc6350c9cbe23a844988cf0320f27e3);\n        \n    \n            var div_icon_9af038dd1c79e36618e635536ad29aa0 = L.divIcon({&quot;className&quot;: &quot;empty&quot;, &quot;html&quot;: &quot;\\u003cdiv style=\\&quot;font-size: 12; color:#d35400;\\&quot;\\u003e\\u003cb\\u003eKSC_LC-39A\\u003c/b\\u003e\\u003c/div\\u003e&quot;, &quot;iconAnchor&quot;: [0, 0], &quot;iconSize&quot;: [20, 20]});\n            marker_5edd727515dcffba1fd5e1a34fc5ed45.setIcon(div_icon_9af038dd1c79e36618e635536ad29aa0);\n        \n    \n            var circle_b306cd036437d75f1db76f5378648f8e = L.circle(\n                [34.632834, -120.610745],\n                {&quot;bubblingMouseEvents&quot;: true, &quot;color&quot;: &quot;#d35400&quot;, &quot;dashArray&quot;: null, &quot;dashOffset&quot;: null, &quot;fill&quot;: true, &quot;fillColor&quot;: &quot;#d35400&quot;, &quot;fillOpacity&quot;: 0.2, &quot;fillRule&quot;: &quot;evenodd&quot;, &quot;lineCap&quot;: &quot;round&quot;, &quot;lineJoin&quot;: &quot;round&quot;, &quot;opacity&quot;: 1.0, &quot;radius&quot;: 1000, &quot;stroke&quot;: true, &quot;weight&quot;: 3}\n            ).addTo(map_bbc6350c9cbe23a844988cf0320f27e3);\n        \n    \n        var popup_7e5328e195fd7dba637a62cc475feb01 = L.popup({&quot;maxWidth&quot;: &quot;100%&quot;});\n\n        \n            \n                var html_cbd78a4f7163962511775f76e7b218bc = $(`&lt;div id=&quot;html_cbd78a4f7163962511775f76e7b218bc&quot; style=&quot;width: 100.0%; height: 100.0%;&quot;&gt;VAFB_SLC-4E&lt;/div&gt;`)[0];\n                popup_7e5328e195fd7dba637a62cc475feb01.setContent(html_cbd78a4f7163962511775f76e7b218bc);\n            \n        \n\n        circle_b306cd036437d75f1db76f5378648f8e.bindPopup(popup_7e5328e195fd7dba637a62cc475feb01)\n        ;\n\n        \n    \n    \n            var marker_5cd451b46b323241a5c5bc04b52d57f8 = L.marker(\n                [34.632834, -120.610745],\n                {}\n            ).addTo(map_bbc6350c9cbe23a844988cf0320f27e3);\n        \n    \n            var div_icon_dd0b67f8b63420f1ab1498d7c8d57e6c = L.divIcon({&quot;className&quot;: &quot;empty&quot;, &quot;html&quot;: &quot;\\u003cdiv style=\\&quot;font-size: 12; color:#d35400;\\&quot;\\u003e\\u003cb\\u003eVAFB_SLC-4E\\u003c/b\\u003e\\u003c/div\\u003e&quot;, &quot;iconAnchor&quot;: [0, 0], &quot;iconSize&quot;: [20, 20]});\n            marker_5cd451b46b323241a5c5bc04b52d57f8.setIcon(div_icon_dd0b67f8b63420f1ab1498d7c8d57e6c);\n        \n    \n            tile_layer_a77b7020faa7199b19df5d3bbfa69ba3.addTo(map_bbc6350c9cbe23a844988cf0320f27e3);\n        \n    \n            var mouse_position_f9262b5c0c51aaa720904889dcef5946 = new L.Control.MousePosition(\n                {&quot;emptyString&quot;: &quot;NaN&quot;, &quot;lngFirst&quot;: false, &quot;numDigits&quot;: 20, &quot;position&quot;: &quot;topright&quot;, &quot;prefix&quot;: &quot;Lat:&quot;, &quot;separator&quot;: &quot; Long: &quot;}\n            );\n            mouse_position_f9262b5c0c51aaa720904889dcef5946.options[&quot;latFormatter&quot;] =\n                function(num) {return L.Util.formatNum(num, 5);};;\n            mouse_position_f9262b5c0c51aaa720904889dcef5946.options[&quot;lngFormatter&quot;] =\n                function(num) {return L.Util.formatNum(num, 5);};;\n            map_bbc6350c9cbe23a844988cf0320f27e3.addControl(mouse_position_f9262b5c0c51aaa720904889dcef5946);\n        \n    \n            tile_layer_a77b7020faa7199b19df5d3bbfa69ba3.addTo(map_bbc6350c9cbe23a844988cf0320f27e3);\n        \n    \n            var marker_a777a1cd258c8b8e6e10a0bb89bdfa09 = L.marker(\n                [28.56367, -80.57163],\n                {}\n            ).addTo(map_bbc6350c9cbe23a844988cf0320f27e3);\n        \n    \n            var div_icon_319379cf1ddda94a534833156a23fbac = L.divIcon({&quot;className&quot;: &quot;empty&quot;, &quot;html&quot;: &quot;\\u003cdiv style=\\&quot;font-size: 12; color:#d35400;\\&quot;\\u003e\\u003cb\\u003e0.58 KM\\u003c/b\\u003e\\u003c/div\\u003e&quot;, &quot;iconAnchor&quot;: [0, 0], &quot;iconSize&quot;: [20, 20]});\n            marker_a777a1cd258c8b8e6e10a0bb89bdfa09.setIcon(div_icon_319379cf1ddda94a534833156a23fbac);\n        \n    \n            var poly_line_1e53b2e847e6aeb1ad24291f74897ff5 = L.polyline(\n                [[28.562302, -80.577356], [28.56406, -80.568]],\n                {&quot;bubblingMouseEvents&quot;: true, &quot;color&quot;: &quot;blue&quot;, &quot;dashArray&quot;: null, &quot;dashOffset&quot;: null, &quot;fill&quot;: false, &quot;fillColor&quot;: &quot;blue&quot;, &quot;fillOpacity&quot;: 0.2, &quot;fillRule&quot;: &quot;evenodd&quot;, &quot;lineCap&quot;: &quot;round&quot;, &quot;lineJoin&quot;: &quot;round&quot;, &quot;noClip&quot;: false, &quot;opacity&quot;: 1.0, &quot;smoothFactor&quot;: 1.0, &quot;stroke&quot;: true, &quot;weight&quot;: 1}\n            ).addTo(map_bbc6350c9cbe23a844988cf0320f27e3);\n        \n    \n            tile_layer_a77b7020faa7199b19df5d3bbfa69ba3.addTo(map_bbc6350c9cbe23a844988cf0320f27e3);\n        \n    \n            var poly_line_d4fd8c66965353485f8aeaf60cc5d3de = L.polyline(\n                [[28.562302, -80.577356], [28.38759, -80.60544]],\n                {&quot;bubblingMouseEvents&quot;: true, &quot;color&quot;: &quot;blue&quot;, &quot;dashArray&quot;: null, &quot;dashOffset&quot;: null, &quot;fill&quot;: false, &quot;fillColor&quot;: &quot;blue&quot;, &quot;fillOpacity&quot;: 0.2, &quot;fillRule&quot;: &quot;evenodd&quot;, &quot;lineCap&quot;: &quot;round&quot;, &quot;lineJoin&quot;: &quot;round&quot;, &quot;noClip&quot;: false, &quot;opacity&quot;: 1.0, &quot;smoothFactor&quot;: 1.0, &quot;stroke&quot;: true, &quot;weight&quot;: 1}\n            ).addTo(map_bbc6350c9cbe23a844988cf0320f27e3);\n        \n    \n            tile_layer_a77b7020faa7199b19df5d3bbfa69ba3.addTo(map_bbc6350c9cbe23a844988cf0320f27e3);\n        \n    \n            var poly_line_fdc2ea8fc7d72b5c0b7fb69995a8d27f = L.polyline(\n                [[28.562302, -80.577356], [28.56157, -80.57064]],\n                {&quot;bubblingMouseEvents&quot;: true, &quot;color&quot;: &quot;blue&quot;, &quot;dashArray&quot;: null, &quot;dashOffset&quot;: null, &quot;fill&quot;: false, &quot;fillColor&quot;: &quot;blue&quot;, &quot;fillOpacity&quot;: 0.2, &quot;fillRule&quot;: &quot;evenodd&quot;, &quot;lineCap&quot;: &quot;round&quot;, &quot;lineJoin&quot;: &quot;round&quot;, &quot;noClip&quot;: false, &quot;opacity&quot;: 1.0, &quot;smoothFactor&quot;: 1.0, &quot;stroke&quot;: true, &quot;weight&quot;: 1}\n            ).addTo(map_bbc6350c9cbe23a844988cf0320f27e3);\n        \n    \n            tile_layer_a77b7020faa7199b19df5d3bbfa69ba3.addTo(map_bbc6350c9cbe23a844988cf0320f27e3);\n        \n    \n            var poly_line_f172e8b7e2bd085a51822c0df40d443c = L.polyline(\n                [[28.562302, -80.577356], [28.57153, -80.58527]],\n                {&quot;bubblingMouseEvents&quot;: true, &quot;color&quot;: &quot;blue&quot;, &quot;dashArray&quot;: null, &quot;dashOffset&quot;: null, &quot;fill&quot;: false, &quot;fillColor&quot;: &quot;blue&quot;, &quot;fillOpacity&quot;: 0.2, &quot;fillRule&quot;: &quot;evenodd&quot;, &quot;lineCap&quot;: &quot;round&quot;, &quot;lineJoin&quot;: &quot;round&quot;, &quot;noClip&quot;: false, &quot;opacity&quot;: 1.0, &quot;smoothFactor&quot;: 1.0, &quot;stroke&quot;: true, &quot;weight&quot;: 1}\n            ).addTo(map_bbc6350c9cbe23a844988cf0320f27e3);\n        \n&lt;/script&gt;\n&lt;/html&gt;\" style=\"position:absolute;width:100%;height:100%;left:0;top:0;border:none !important;\" allowfullscreen webkitallowfullscreen mozallowfullscreen></iframe></div></div>"
          },
          "metadata": {}
        }
      ],
      "execution_count": 24
    },
    {
      "cell_type": "markdown",
      "source": "After you plot distance lines to the proximities, you can answer the following questions easily:\n\n*   Are launch sites in close proximity to railways?\n*   Are launch sites in close proximity to highways?\n*   Are launch sites in close proximity to coastline?\n*   Do launch sites keep certain distance away from cities?\n\nAlso please try to explain your findings.\n",
      "metadata": {}
    },
    {
      "cell_type": "markdown",
      "source": "# Next Steps:\n\nNow you have discovered many interesting insights related to the launch sites' location using folium, in a very interactive way. Next, you will need to build a dashboard using Ploty Dash on detailed launch records.\n",
      "metadata": {}
    },
    {
      "cell_type": "markdown",
      "source": "## Authors\n",
      "metadata": {}
    },
    {
      "cell_type": "markdown",
      "source": "[Pratiksha Verma](https://www.linkedin.com/in/pratiksha-verma-6487561b1/?utm_medium=Exinfluencer&utm_source=Exinfluencer&utm_content=000026UJ&utm_term=10006555&utm_id=NA-SkillsNetwork-Channel-SkillsNetworkCoursesIBMDS0321ENSkillsNetwork865-2022-01-01)\n",
      "metadata": {}
    },
    {
      "cell_type": "markdown",
      "source": "## Change Log\n",
      "metadata": {}
    },
    {
      "cell_type": "markdown",
      "source": "| Date (YYYY-MM-DD) | Version | Changed By      | Change Description      |\n| ----------------- | ------- | -------------   | ----------------------- |\n| 2022-11-09        | 1.0     | Pratiksha Verma | Converted initial version to Jupyterlite|\n",
      "metadata": {}
    },
    {
      "cell_type": "markdown",
      "source": "### <h3 align=\"center\"> IBM Corporation 2022. All rights reserved. <h3/>\n",
      "metadata": {}
    },
    {
      "cell_type": "code",
      "source": "",
      "metadata": {
        "trusted": true
      },
      "outputs": [],
      "execution_count": null
    },
    {
      "cell_type": "code",
      "source": "",
      "metadata": {
        "trusted": true
      },
      "outputs": [],
      "execution_count": null
    },
    {
      "cell_type": "code",
      "source": "",
      "metadata": {
        "trusted": true
      },
      "outputs": [],
      "execution_count": null
    },
    {
      "cell_type": "code",
      "source": "",
      "metadata": {
        "trusted": true
      },
      "outputs": [],
      "execution_count": null
    },
    {
      "cell_type": "code",
      "source": "",
      "metadata": {
        "trusted": true
      },
      "outputs": [],
      "execution_count": null
    },
    {
      "cell_type": "code",
      "source": "",
      "metadata": {
        "trusted": true
      },
      "outputs": [],
      "execution_count": null
    },
    {
      "cell_type": "code",
      "source": "",
      "metadata": {
        "trusted": true
      },
      "outputs": [],
      "execution_count": null
    },
    {
      "cell_type": "code",
      "source": "",
      "metadata": {
        "trusted": true
      },
      "outputs": [],
      "execution_count": null
    },
    {
      "cell_type": "code",
      "source": "",
      "metadata": {
        "trusted": true
      },
      "outputs": [],
      "execution_count": null
    },
    {
      "cell_type": "code",
      "source": "",
      "metadata": {
        "trusted": true
      },
      "outputs": [],
      "execution_count": null
    }
  ]
}